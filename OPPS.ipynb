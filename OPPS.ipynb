{
 "cells": [
  {
   "cell_type": "markdown",
   "id": "36c6a91f",
   "metadata": {},
   "source": [
    "# .........................OOP.........................."
   ]
  },
  {
   "cell_type": "code",
   "execution_count": 2,
   "id": "566ab84d",
   "metadata": {},
   "outputs": [
    {
     "name": "stdout",
     "output_type": "stream",
     "text": [
      "your name is ajay and age is 23.\n"
     ]
    },
    {
     "data": {
      "text/plain": [
       "5.4"
      ]
     },
     "execution_count": 2,
     "metadata": {},
     "output_type": "execute_result"
    }
   ],
   "source": [
    "class Person:\n",
    "    is_live=True                  # class object attribute\n",
    "    def __init__(self,name,age):  #initializes the object, called everytime when we create object\n",
    "        self.name=name            #dynamic attribute\n",
    "        self.age=age\n",
    "    def details(self):\n",
    "        print(f\"your name is {self.name} and age is {self.age}.\")\n",
    "obj=Person(\"ajay\",23)\n",
    "obj.height=5.4\n",
    "\n",
    "obj.name\n",
    "obj.age\n",
    "obj.height\n",
    "obj.details()\n",
    "Person.is_live"
   ]
  },
  {
   "cell_type": "code",
   "execution_count": null,
   "id": "3243b750",
   "metadata": {},
   "outputs": [],
   "source": []
  },
  {
   "cell_type": "code",
   "execution_count": 16,
   "id": "fe605d72",
   "metadata": {},
   "outputs": [],
   "source": [
    "                              #abstraction\n",
    "#in python there is no any private keyword\n",
    "# by convention we use one _ in starting of variable or method or function\n",
    "# e.g _name , _myMethod   etc\n",
    "class Abstraction_demo:\n",
    "    def __init__(self,id,name):\n",
    "        self._id=id    #by convention we will consider that _name is not meant to modify or it is private\n",
    "        self._name=name\n",
    "obj=Abstraction_demo(\"ajay\",23)\n",
    "#obj.name  # -> this dosen't exit"
   ]
  },
  {
   "cell_type": "code",
   "execution_count": 25,
   "id": "8840da3c",
   "metadata": {},
   "outputs": [
    {
     "name": "stdout",
     "output_type": "stream",
     "text": [
      "ajay\n",
      "A\n"
     ]
    },
    {
     "data": {
      "text/plain": [
       "'ajay@gmail.com'"
      ]
     },
     "execution_count": 25,
     "metadata": {},
     "output_type": "execute_result"
    }
   ],
   "source": [
    "                                #Inheritance\n",
    "# it allows new object to take properties of existing object\n",
    "class A:\n",
    "    def __init__(self,name):\n",
    "        self.name=name\n",
    "        print(name)\n",
    "    def test(self):\n",
    "        print(\"A\")\n",
    "class B(A):\n",
    "    def __init__(self,name):   ## The child's __init__() function overrides the inheritance of the parent's __init__() function.\n",
    "        self.name=name\n",
    "        print(name)\n",
    "\n",
    "         \n",
    "b=B(\"ajay\")\n",
    "b.test()\n",
    "\n",
    "isinstance(b,B) #True\n",
    "isinstance(b,A) #True\n",
    "isinstance(b,object) #True\n",
    "\n",
    "## To keep the inheritance of the parent's __init__() function, add a call to the parent's __init__() function:\n",
    "class Parent:\n",
    "    def __init__(self,email):\n",
    "        self.email=email\n",
    "class Child(Parent):\n",
    "    def __init__(self,name,email):  \n",
    "        Parent.__init__(self,email)   ##this line can also be with  super()->  super().__init__(email)  #with super we don't need self =>super invokes the parent class\n",
    "        self.name=name\n",
    "c=Child(\"ajay\",\"ajay@gmail.com\")\n",
    "c.email"
   ]
  },
  {
   "cell_type": "code",
   "execution_count": 26,
   "id": "430f150e",
   "metadata": {},
   "outputs": [
    {
     "name": "stdout",
     "output_type": "stream",
     "text": [
      "Meow\n",
      "Bark\n"
     ]
    }
   ],
   "source": [
    "                              #Polymorphism\n",
    "# method overloading is not allowed in same hierarchy.\n",
    "#we can achieve polymorphism in many ways like below\n",
    "class Cat:\n",
    "    def speak():\n",
    "        print(\"Meow\")\n",
    "        pass\n",
    "    pass\n",
    "class Dog:\n",
    "    def speak():\n",
    "        print(\"Bark\")\n",
    "        pass\n",
    "    pass\n",
    "def animalSound(anim):\n",
    "    anim.speak()\n",
    "    pass\n",
    "\n",
    "animalSound(Cat)\n",
    "animalSound(Dog)\n",
    "        "
   ]
  },
  {
   "cell_type": "code",
   "execution_count": null,
   "id": "af2c2b58",
   "metadata": {},
   "outputs": [],
   "source": []
  },
  {
   "cell_type": "markdown",
   "id": "74ab887b",
   "metadata": {},
   "source": [
    "### Dunder Methods "
   ]
  },
  {
   "cell_type": "code",
   "execution_count": 27,
   "id": "1e4c2352",
   "metadata": {},
   "outputs": [
    {
     "data": {
      "text/plain": [
       "toy name is Car and color is red"
      ]
     },
     "execution_count": 27,
     "metadata": {},
     "output_type": "execute_result"
    }
   ],
   "source": [
    "# Dunder method  all predefine methods whose name starts with __\n",
    "class Toy:\n",
    "    def __init__(self,name,color):\n",
    "        self.color=color\n",
    "        self.name=name\n",
    "        self.mydict={1:\"one\",2:\"two\"}\n",
    "        \n",
    "    def __str__(self):    #here we are modifying the str() function for this class. like overriding the toString in java\n",
    "        return f\"toy name is {self.name} and color is {self.color}\"\n",
    "    def __repr__(self):   #it represnts the object , we don't to call str function.\n",
    "        return f\"toy name is {self.name} and color is {self.color}\"\n",
    "    \n",
    "    def __len__(self):  #len()\n",
    "        return 2;\n",
    "    def __call__(self):\n",
    "        return \"you called me\"\n",
    "    def __getitem__(self,i):\n",
    "        if i not in self.mydict.keys():\n",
    "            return \"no value available\"\n",
    "        return self.mydict[i]\n",
    "    \n",
    "t=Toy(\"Car\",\"red\")\n",
    "str(t)   #__str__\n",
    "len(t)   #__len__\n",
    "t()      #__call__\n",
    "t[1]     #__getitem__\n",
    "t        #__repr__"
   ]
  },
  {
   "cell_type": "code",
   "execution_count": null,
   "id": "d9d65bfa",
   "metadata": {},
   "outputs": [],
   "source": []
  },
  {
   "cell_type": "code",
   "execution_count": 28,
   "id": "44b3b2c5",
   "metadata": {},
   "outputs": [
    {
     "data": {
      "text/plain": [
       "[__main__.D, __main__.B, __main__.C, __main__.A, object]"
      ]
     },
     "execution_count": 28,
     "metadata": {},
     "output_type": "execute_result"
    }
   ],
   "source": [
    "# mro -> method resolution order __mro__\n",
    "class A:\n",
    "    x=\"A\"\n",
    "class B(A):\n",
    "    x=\"B\"\n",
    "class C(A):\n",
    "    x=\"C\"\n",
    "class D(B,C):\n",
    "    pass\n",
    "\n",
    "D.x\n",
    "D.mro() # tells the hierarchy of the class"
   ]
  },
  {
   "cell_type": "code",
   "execution_count": null,
   "id": "cdc0b00b",
   "metadata": {},
   "outputs": [],
   "source": [
    "# @classmethod and @staticmethod\n",
    "\n",
    "class Model:\n",
    "    def __init__(self,id,name):\n",
    "        self.id=id\n",
    "        self.name=name\n",
    "        \n",
    "    @classmethod\n",
    "    def cmethod(cls,x):      #cls parameter is required, we can use this to initialize the abject with the help of cls, not used so much\n",
    "        return cls(x,\"ajay\")\n",
    "    \n",
    "    @staticmethod\n",
    "    def smethod(x):\n",
    "        return x\n",
    "    \n",
    "    def fun():\n",
    "        return \"fun\"\n",
    "        \n",
    "        \n",
    "        \n",
    "Model.cmethod(2).name\n",
    "Model.smethod(2)\n",
    "    "
   ]
  },
  {
   "cell_type": "code",
   "execution_count": null,
   "id": "21813590",
   "metadata": {},
   "outputs": [],
   "source": []
  },
  {
   "cell_type": "code",
   "execution_count": null,
   "id": "bf5758b4",
   "metadata": {},
   "outputs": [],
   "source": []
  },
  {
   "cell_type": "code",
   "execution_count": null,
   "id": "7a65eba6",
   "metadata": {},
   "outputs": [],
   "source": []
  },
  {
   "cell_type": "code",
   "execution_count": null,
   "id": "224b7fa0",
   "metadata": {},
   "outputs": [],
   "source": []
  }
 ],
 "metadata": {
  "kernelspec": {
   "display_name": "Python 3 (ipykernel)",
   "language": "python",
   "name": "python3"
  },
  "language_info": {
   "codemirror_mode": {
    "name": "ipython",
    "version": 3
   },
   "file_extension": ".py",
   "mimetype": "text/x-python",
   "name": "python",
   "nbconvert_exporter": "python",
   "pygments_lexer": "ipython3",
   "version": "3.9.7"
  }
 },
 "nbformat": 4,
 "nbformat_minor": 5
}
