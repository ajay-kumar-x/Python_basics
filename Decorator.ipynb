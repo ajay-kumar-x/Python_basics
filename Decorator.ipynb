{
 "cells": [
  {
   "cell_type": "markdown",
   "id": "f98db4f4",
   "metadata": {},
   "source": [
    "# Decorator"
   ]
  },
  {
   "cell_type": "code",
   "execution_count": null,
   "id": "a4728112",
   "metadata": {},
   "outputs": [],
   "source": [
    "# Decorators are a very powerful and useful tool in Python\n",
    "# since it allows programmers to modify the behaviour of a function or class"
   ]
  },
  {
   "cell_type": "code",
   "execution_count": 3,
   "id": "c0e1f094",
   "metadata": {},
   "outputs": [
    {
     "name": "stdout",
     "output_type": "stream",
     "text": [
      "25\n"
     ]
    }
   ],
   "source": [
    "def create_adder(x):\n",
    "    def adder(y):\n",
    "        return x+y\n",
    "    \n",
    "    return adder\n",
    " \n",
    "add_15 = create_adder(15)\n",
    " \n",
    "print(add_15(10))\n"
   ]
  },
  {
   "cell_type": "code",
   "execution_count": 9,
   "id": "8bdc6006",
   "metadata": {},
   "outputs": [
    {
     "name": "stdout",
     "output_type": "stream",
     "text": [
      "hello\n"
     ]
    }
   ],
   "source": [
    "def my_decorator(func):   #here my_decorator takes function as parameter and returns a function wrap_func\n",
    "    def wrap_func():\n",
    "        print(\"***********\")\n",
    "        func()\n",
    "        print(\"#########\")\n",
    "    return wrap_func\n",
    "\n",
    "#@my_decorator    # same as assigning a variable  my_decorator(hello) which returns a function\n",
    "def hello():\n",
    "    print(\"hello\")\n",
    "    pass\n",
    "\n",
    "hello()"
   ]
  },
  {
   "cell_type": "code",
   "execution_count": 46,
   "id": "b31bb083",
   "metadata": {},
   "outputs": [
    {
     "name": "stdout",
     "output_type": "stream",
     "text": [
      "[0, 1000000, 2000000, 3000000, 4000000, 5000000, 6000000, 7000000, 8000000, 9000000]\n",
      "total time taken 0.779961347579956 s\n"
     ]
    }
   ],
   "source": [
    "from time import time\n",
    "\n",
    "#make a program to calculate the perforamce of any function\n",
    "def performance(func):\n",
    "    def wrapper_func(*args,**kwargs):  #wrote this *args and **kwargs so that any function can use this \n",
    "        t1=time()\n",
    "        res=func(*args,**kwargs)\n",
    "        t2=time()\n",
    "        print(f'total time taken {t2-t1} s')\n",
    "        return res\n",
    "    return wrapper_func\n",
    "\n",
    "@performance\n",
    "def calculation(a,b):\n",
    "    l=[x for x in range(10000000) if x%1000000==0]\n",
    "    print(l)\n",
    "        \n",
    "\n",
    "calculation(3,6)    "
   ]
  },
  {
   "cell_type": "code",
   "execution_count": null,
   "id": "742b1e4e",
   "metadata": {},
   "outputs": [],
   "source": []
  },
  {
   "cell_type": "code",
   "execution_count": null,
   "id": "4b5ec7a8",
   "metadata": {},
   "outputs": [],
   "source": []
  },
  {
   "cell_type": "code",
   "execution_count": null,
   "id": "d832c3e2",
   "metadata": {},
   "outputs": [],
   "source": []
  },
  {
   "cell_type": "code",
   "execution_count": null,
   "id": "2e64052b",
   "metadata": {},
   "outputs": [],
   "source": []
  }
 ],
 "metadata": {
  "kernelspec": {
   "display_name": "Python 3 (ipykernel)",
   "language": "python",
   "name": "python3"
  },
  "language_info": {
   "codemirror_mode": {
    "name": "ipython",
    "version": 3
   },
   "file_extension": ".py",
   "mimetype": "text/x-python",
   "name": "python",
   "nbconvert_exporter": "python",
   "pygments_lexer": "ipython3",
   "version": "3.9.7"
  }
 },
 "nbformat": 4,
 "nbformat_minor": 5
}
