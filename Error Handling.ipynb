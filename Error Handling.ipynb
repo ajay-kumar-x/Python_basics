{
 "cells": [
  {
   "cell_type": "markdown",
   "id": "d97d55f0",
   "metadata": {},
   "source": [
    "# Error Handling"
   ]
  },
  {
   "cell_type": "code",
   "execution_count": null,
   "id": "e9984cb7",
   "metadata": {},
   "outputs": [],
   "source": [
    "# ValueError\n",
    "#ZeroDivisionError\n",
    "\n",
    "'''\n",
    "try:\n",
    "    statemnt\n",
    "except:            #or except typeOfError:\n",
    "    statement action\n",
    "else:\n",
    "    action on no error\n",
    "finally:\n",
    "    statement that runs regardless at the end of everything\n",
    "'''"
   ]
  },
  {
   "cell_type": "code",
   "execution_count": 47,
   "id": "ac0acd8a",
   "metadata": {},
   "outputs": [
    {
     "name": "stdout",
     "output_type": "stream",
     "text": [
      "Enter age: d\n",
      "please enter number\n",
      "finally done 1 timesEnter age: 0\n",
      "sorry, you entered 0, so exiting\n",
      "finally done 2 times"
     ]
    }
   ],
   "source": [
    "i=0\n",
    "while True:\n",
    "    try:\n",
    "        age=int(input(\"Enter age: \"))\n",
    "        age=100/age\n",
    "    except ValueError:\n",
    "        print(\"please enter number\")\n",
    "        continue\n",
    "    except ZeroDivisionError:\n",
    "        print(\"sorry, you entered 0, so exiting\") \n",
    "        break\n",
    "    else:\n",
    "        print(\"good\")\n",
    "        break\n",
    "    finally:\n",
    "        i=i+1\n",
    "        print(f\"finally done {i} times\",end=\"\")\n",
    "\n",
    "    "
   ]
  },
  {
   "cell_type": "code",
   "execution_count": 48,
   "id": "98927e8d",
   "metadata": {},
   "outputs": [
    {
     "name": "stdout",
     "output_type": "stream",
     "text": [
      "error message:- unsupported operand type(s) for /: 'int' and 'str'\n",
      "div done\n"
     ]
    }
   ],
   "source": [
    "def div(x,y):\n",
    "    try:\n",
    "        z=x/y\n",
    "    except (TypeError, ZeroDivisionError) as err:\n",
    "        print(\"error message:- \"+str(err))\n",
    "    else:\n",
    "        return z\n",
    "    finally:\n",
    "        print(\"div done\")\n",
    "\n",
    "        \n",
    "div(1,\"a\")"
   ]
  },
  {
   "cell_type": "code",
   "execution_count": 51,
   "id": "f73bb21f",
   "metadata": {},
   "outputs": [
    {
     "name": "stdout",
     "output_type": "stream",
     "text": [
      "Enter age: 6\n"
     ]
    },
    {
     "ename": "ValueError",
     "evalue": "velue error thorwn manually",
     "output_type": "error",
     "traceback": [
      "\u001b[1;31m---------------------------------------------------------------------------\u001b[0m",
      "\u001b[1;31mValueError\u001b[0m                                Traceback (most recent call last)",
      "Input \u001b[1;32mIn [51]\u001b[0m, in \u001b[0;36m<cell line: 3>\u001b[1;34m()\u001b[0m\n\u001b[0;32m      4\u001b[0m     age\u001b[38;5;241m=\u001b[39m\u001b[38;5;28mint\u001b[39m(\u001b[38;5;28minput\u001b[39m(\u001b[38;5;124m\"\u001b[39m\u001b[38;5;124mEnter age: \u001b[39m\u001b[38;5;124m\"\u001b[39m))\n\u001b[0;32m      5\u001b[0m     age\u001b[38;5;241m=\u001b[39m\u001b[38;5;241m100\u001b[39m\u001b[38;5;241m/\u001b[39mage\n\u001b[1;32m----> 6\u001b[0m     \u001b[38;5;28;01mraise\u001b[39;00m \u001b[38;5;167;01mValueError\u001b[39;00m(\u001b[38;5;124m\"\u001b[39m\u001b[38;5;124mvelue error thorwn manually\u001b[39m\u001b[38;5;124m\"\u001b[39m)\n\u001b[0;32m      7\u001b[0m \u001b[38;5;28;01mexcept\u001b[39;00m \u001b[38;5;167;01mTypeError\u001b[39;00m:\n\u001b[0;32m      8\u001b[0m     \u001b[38;5;28mprint\u001b[39m(\u001b[38;5;124m\"\u001b[39m\u001b[38;5;124mexcept\u001b[39m\u001b[38;5;124m\"\u001b[39m)\n",
      "\u001b[1;31mValueError\u001b[0m: velue error thorwn manually"
     ]
    }
   ],
   "source": [
    "# throw your own error\n",
    "#   raise\n",
    "try:\n",
    "    age=int(input(\"Enter age: \"))\n",
    "    age=100/age\n",
    "    raise ValueError(\"value error thorwn manually\")\n",
    "except TypeError:\n",
    "    print(\"except\")"
   ]
  },
  {
   "cell_type": "code",
   "execution_count": null,
   "id": "00a321f9",
   "metadata": {},
   "outputs": [],
   "source": []
  },
  {
   "cell_type": "code",
   "execution_count": null,
   "id": "b78b269d",
   "metadata": {},
   "outputs": [],
   "source": []
  },
  {
   "cell_type": "code",
   "execution_count": null,
   "id": "d13f736b",
   "metadata": {},
   "outputs": [],
   "source": []
  }
 ],
 "metadata": {
  "kernelspec": {
   "display_name": "Python 3 (ipykernel)",
   "language": "python",
   "name": "python3"
  },
  "language_info": {
   "codemirror_mode": {
    "name": "ipython",
    "version": 3
   },
   "file_extension": ".py",
   "mimetype": "text/x-python",
   "name": "python",
   "nbconvert_exporter": "python",
   "pygments_lexer": "ipython3",
   "version": "3.9.7"
  }
 },
 "nbformat": 4,
 "nbformat_minor": 5
}
