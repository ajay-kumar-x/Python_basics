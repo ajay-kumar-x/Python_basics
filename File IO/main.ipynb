{
 "cells": [
  {
   "cell_type": "code",
   "execution_count": 10,
   "id": "107dca4f",
   "metadata": {},
   "outputs": [
    {
     "name": "stdout",
     "output_type": "stream",
     "text": [
      "my name is ajay\n",
      "\n",
      "my name is ajay\n"
     ]
    }
   ],
   "source": [
    "my_file=open('test.txt')\n",
    "my_file\n",
    "print(my_file.read())  #cursor will be at end after reading.\n",
    "\n",
    "print(my_file.read()) # so we will not get anything when we will try to read again.\n",
    "#to overcome this, we can set cursor to particular position after read\n",
    "my_file.seek(0) #setting the cusror to start position\n",
    "print(my_file.read())"
   ]
  },
  {
   "cell_type": "code",
   "execution_count": 61,
   "id": "6e84f87d",
   "metadata": {},
   "outputs": [],
   "source": [
    "my_file.seek(0)\n",
    "my_file.readline() #read only one line and moves cursor to next line\n",
    "my_file.readlines() #return the lines in list form and moves cursor last\n",
    "my_file.close()"
   ]
  },
  {
   "cell_type": "code",
   "execution_count": 63,
   "id": "4ec0a214",
   "metadata": {},
   "outputs": [
    {
     "name": "stdout",
     "output_type": "stream",
     "text": [
      "['my name is ajay\\n', 'how are you?']\n"
     ]
    }
   ],
   "source": [
    "#this is more usefull way, here we don't need to close the file manually\n",
    "\n",
    "with open('test.txt') as my_file:     #mode is read by default\n",
    "    print(my_file.readlines())\n",
    "    "
   ]
  },
  {
   "cell_type": "code",
   "execution_count": 66,
   "id": "80af44bd",
   "metadata": {},
   "outputs": [],
   "source": [
    "# r -> read, r+ ->read+write(override the file from start), w ->write (clears and write, it also create a file if dosen't exit), a ->append"
   ]
  },
  {
   "cell_type": "code",
   "execution_count": 68,
   "id": "416dca96",
   "metadata": {},
   "outputs": [],
   "source": [
    "with open('test.txt',mode='r+') as my_file:\n",
    "    my_file.write(\"hello\")"
   ]
  },
  {
   "cell_type": "code",
   "execution_count": 69,
   "id": "53111bff",
   "metadata": {},
   "outputs": [],
   "source": [
    "with open('test.txt',mode='w') as my_file:\n",
    "    my_file.write(\"hello\")"
   ]
  },
  {
   "cell_type": "code",
   "execution_count": 71,
   "id": "fe16024b",
   "metadata": {},
   "outputs": [],
   "source": [
    "with open('test.txt',mode='a') as my_file:\n",
    "    my_file.write(\":)\")"
   ]
  },
  {
   "cell_type": "markdown",
   "id": "3e97bb24",
   "metadata": {},
   "source": [
    "# Translator"
   ]
  },
  {
   "cell_type": "code",
   "execution_count": 75,
   "id": "16e981c3",
   "metadata": {},
   "outputs": [
    {
     "name": "stdout",
     "output_type": "stream",
     "text": [
      "Collecting translate\n",
      "  Downloading translate-3.6.1-py2.py3-none-any.whl (12 kB)\n",
      "Collecting click\n",
      "  Downloading click-8.1.3-py3-none-any.whl (96 kB)\n",
      "Collecting lxml\n",
      "  Downloading lxml-4.9.1-cp39-cp39-win_amd64.whl (3.6 MB)\n",
      "Collecting libretranslatepy==2.1.1\n",
      "  Downloading libretranslatepy-2.1.1-py3-none-any.whl (3.2 kB)\n",
      "Collecting requests\n",
      "  Downloading requests-2.28.1-py3-none-any.whl (62 kB)\n",
      "Requirement already satisfied: colorama in c:\\users\\900974\\appdata\\local\\programs\\python\\python39\\lib\\site-packages (from click->translate) (0.4.4)\n",
      "Collecting charset-normalizer<3,>=2\n",
      "  Downloading charset_normalizer-2.1.0-py3-none-any.whl (39 kB)\n",
      "Collecting idna<4,>=2.5\n",
      "  Downloading idna-3.3-py3-none-any.whl (61 kB)\n",
      "Collecting certifi>=2017.4.17\n",
      "  Downloading certifi-2022.6.15-py3-none-any.whl (160 kB)\n",
      "Collecting urllib3<1.27,>=1.21.1\n",
      "  Downloading urllib3-1.26.9-py2.py3-none-any.whl (138 kB)\n",
      "Installing collected packages: urllib3, idna, charset-normalizer, certifi, requests, lxml, libretranslatepy, click, translate\n",
      "Successfully installed certifi-2022.6.15 charset-normalizer-2.1.0 click-8.1.3 idna-3.3 libretranslatepy-2.1.1 lxml-4.9.1 requests-2.28.1 translate-3.6.1 urllib3-1.26.9\n",
      "Note: you may need to restart the kernel to use updated packages.\n"
     ]
    },
    {
     "name": "stderr",
     "output_type": "stream",
     "text": [
      "WARNING: You are using pip version 21.2.3; however, version 22.1.2 is available.\n",
      "You should consider upgrading via the 'C:\\Users\\900974\\AppData\\Local\\Programs\\Python\\Python39\\python.exe -m pip install --upgrade pip' command.\n"
     ]
    }
   ],
   "source": [
    "pip install translate"
   ]
  },
  {
   "cell_type": "code",
   "execution_count": 111,
   "id": "84c8ca29",
   "metadata": {},
   "outputs": [],
   "source": [
    "from translate import Translator"
   ]
  },
  {
   "cell_type": "code",
   "execution_count": 113,
   "id": "f5b65e48",
   "metadata": {},
   "outputs": [
    {
     "name": "stdout",
     "output_type": "stream",
     "text": [
      "मैंने आपको फोन किया लेकिन आप मेरी कॉल रिसीव नहीं कर रहे\n"
     ]
    }
   ],
   "source": [
    "trans=Translator(to_lang='hindi')\n",
    "try:\n",
    "    with open('test.txt',mode='r') as my_file:\n",
    "        text=my_file.read()\n",
    "        translated=trans.translate(text)\n",
    "        print(translated)       \n",
    "except FileNotFoundError as e:\n",
    "    print(\"file not found\")\n",
    "    "
   ]
  }
 ],
 "metadata": {
  "kernelspec": {
   "display_name": "Python 3 (ipykernel)",
   "language": "python",
   "name": "python3"
  },
  "language_info": {
   "codemirror_mode": {
    "name": "ipython",
    "version": 3
   },
   "file_extension": ".py",
   "mimetype": "text/x-python",
   "name": "python",
   "nbconvert_exporter": "python",
   "pygments_lexer": "ipython3",
   "version": "3.9.7"
  }
 },
 "nbformat": 4,
 "nbformat_minor": 5
}
