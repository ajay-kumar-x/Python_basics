{
 "cells": [
  {
   "cell_type": "markdown",
   "id": "fb35ed81",
   "metadata": {},
   "source": [
    "# ..........................................Python3......................................................"
   ]
  },
  {
   "cell_type": "markdown",
   "id": "da9d3036",
   "metadata": {},
   "source": [
    "# Part-I"
   ]
  },
  {
   "cell_type": "markdown",
   "id": "f2005489",
   "metadata": {},
   "source": [
    "# Variable and Data Types "
   ]
  },
  {
   "cell_type": "code",
   "execution_count": 78,
   "id": "f92851fe",
   "metadata": {
    "slideshow": {
     "slide_type": "slide"
    }
   },
   "outputs": [],
   "source": [
    "#Data Types\n",
    "int   # 3\n",
    "float # 5.6\n",
    "bool  # True/False\n",
    "str   # 'Ajay'\n",
    "list  # [3,5,4,6,3,6]\n",
    "tuple # (3,5,4,6,3,6)\n",
    "set   # {3,5,4,6}\n",
    "dict  # {'a':1,'b':2,'c':3}\n",
    "\n",
    "complex # 1J\n",
    "None"
   ]
  },
  {
   "cell_type": "code",
   "execution_count": 112,
   "id": "8aaedeb4",
   "metadata": {},
   "outputs": [
    {
     "name": "stdout",
     "output_type": "stream",
     "text": [
      "10 <class 'int'>\n",
      "9.5 <class 'float'>\n",
      "Ajay <class 'str'>\n",
      "True <class 'bool'>\n"
     ]
    }
   ],
   "source": [
    "#python has no command for declaring a variable. A variable is created at the moment we first assign a value to it.\n",
    "#variables do not need to be declared with any type and we can even change type later\n",
    "\n",
    "x=10\n",
    "print(x,type(x))\n",
    "x=9.5\n",
    "print(x,type(x))\n",
    "x=\"Ajay\"\n",
    "print(x,type(x))\n",
    "\n",
    "temp=True\n",
    "print(temp,type(temp))\n"
   ]
  },
  {
   "cell_type": "code",
   "execution_count": 99,
   "id": "aa5e88da",
   "metadata": {},
   "outputs": [],
   "source": [
    "# We can assign value in more dynamic fashion\n",
    "\n",
    "a,b=4,6   #=> a=4,b=6\n",
    "\n",
    "a,b,c=10,\"python\",a  #=> a=10, b='python', c=10(value of a)\n",
    "\n",
    "a,*b,c=1,2,3,4,5    #=> a=1, b=[2,3,4], c=5"
   ]
  },
  {
   "cell_type": "markdown",
   "id": "aa6f7ad4",
   "metadata": {},
   "source": [
    "#  int,  float (Numbers)"
   ]
  },
  {
   "cell_type": "code",
   "execution_count": 41,
   "id": "0f3ceb8a",
   "metadata": {},
   "outputs": [
    {
     "data": {
      "text/plain": [
       "5.77"
      ]
     },
     "execution_count": 41,
     "metadata": {},
     "output_type": "execute_result"
    }
   ],
   "source": [
    "a=10\n",
    "b=3\n",
    "c=a+b  #13\n",
    "c=a/b  #3.33333\n",
    "c=a//b #3\n",
    "c=a%b  #1\n",
    "c=a**b #1000\n",
    "\n",
    "#Built in functions\n",
    "x=min(5,10,3,9)   #3\n",
    "x=max(5,10,3,9)   #10\n",
    "x=abs(-10.4)      #10.4\n",
    "x=pow(4,3)        #64\n",
    "x=round(5.76543)  #6\n",
    "x=round(5.76543,2) #5.77\n",
    "x\n",
    "#use help(function_name or object name) to get details about that"
   ]
  },
  {
   "cell_type": "code",
   "execution_count": 108,
   "id": "83e70e6c",
   "metadata": {},
   "outputs": [],
   "source": [
    "                                #math module\n",
    "import math\n",
    "# help(math) -> gives details about that\n",
    "x=math.sqrt(64) #8.0\n",
    "x=math.isqrt(3) #1 -> round a square root number downwards to the nearest integer\n",
    "x=math.ceil(1.4) #2\n",
    "x=math.floor(1.9) #1\n",
    "x=math.log(10)    #2.302\n",
    "x=math.factorial(5) #120\n",
    "x=math.comb(3,2)    #3\n",
    "x=math.perm(3,2)    #6\n",
    "x=math.gcd(2,4)     #2\n",
    "x=math.prod([3,2,4]) #24\n",
    "x=math.copysign(4,-3) #-4.0\n",
    "x=math.degrees(1.5707) #90\n",
    "x=math.radians(90) #1.5707\n",
    "x=math.dist([0,0],[3,4]) #5.0\n",
    "\n"
   ]
  },
  {
   "cell_type": "markdown",
   "id": "9d3e6e6c",
   "metadata": {},
   "source": [
    "#  str  (string)"
   ]
  },
  {
   "cell_type": "code",
   "execution_count": 81,
   "id": "b696d6dc",
   "metadata": {
    "slideshow": {
     "slide_type": "notes"
    }
   },
   "outputs": [
    {
     "name": "stdout",
     "output_type": "stream",
     "text": [
      "name is Rahul and age is 23\n",
      "name is Rahul and age is 23\n",
      "only 49.00 dollars!\n"
     ]
    }
   ],
   "source": [
    "#sequence of character \n",
    "#immutable\n",
    "#we can reassign a new value but we can't change the string.\n",
    "\n",
    "name=\"Ajay\"\n",
    "name=\"Rahul\"\n",
    "# name[3]=\"x\" -> error\n",
    "\n",
    "age=23\n",
    "# detail=name+age  ->we cannot concatenate int with string. we can do by typecasting\n",
    "detail=\"name is \"+name+\" and age is \"+str(age)\n",
    "print(detail)\n",
    "\n",
    "#string formatting\n",
    "print(f'name is {name} and age is {age}')\n",
    "\n",
    "print( \"only {price:.2f} dollars!\".format(price = 49))"
   ]
  },
  {
   "cell_type": "code",
   "execution_count": 164,
   "id": "44e5a859",
   "metadata": {},
   "outputs": [
    {
     "data": {
      "text/plain": [
       "True"
      ]
     },
     "execution_count": 164,
     "metadata": {},
     "output_type": "execute_result"
    }
   ],
   "source": [
    "                            #String Methods\n",
    "\n",
    "## All the methods just returns a new String because String is immutable\n",
    "\n",
    "x=\"Python is easy\"\n",
    "len(x) # also x.__len__()\n",
    "x.capitalize()#Converts the first character to upper case\n",
    "x.lower()\n",
    "x.upper()\n",
    "x.swapcase()#change upper to lower and lower to upper\n",
    "x.endswith(\"y\")\n",
    "x.startswith(\"M\")\n",
    "\n",
    "\n",
    "x.find(\"s\") # returns index of first occurence. returns -1 if not found\n",
    "x.index(\"o\") # gives error message when not found\n",
    "x.rfind(\"s\") # returns index of last occurence. returns -1 if not found\n",
    "x.rindex(\"o\")\n",
    "\n",
    "x=\"ajay123\"\n",
    "x.isalnum()\n",
    "x.isalpha()\n",
    "x.isascii()\n",
    "x.isnumeric()\n",
    "x.isdigit()\n",
    "\n",
    "x.islower()\n",
    "x.isupper()\n",
    "\n",
    "x=\"My Name Is Ajay.\"\n",
    "x.istitle()# method returns True if all words in a text start with a upper case letter, AND the rest of the word are lower case letters, otherwise False.\n",
    "\n",
    "txt = \"i  like bananas\"\n",
    "x = txt.replace(\"bananas\", \"apples\")\n",
    "\n",
    "l=x.split() #by default space\n",
    "x.splitlines() #splits on lines\n",
    "x.strip() #trimmed\n",
    "c=x.count(\"a\")\n",
    "\"pl\" not in x # return True if present in the iterable or string\n",
    "\"px\" not in x # return True if not present in the iterable or String"
   ]
  },
  {
   "cell_type": "code",
   "execution_count": 152,
   "id": "2cbecedc",
   "metadata": {},
   "outputs": [
    {
     "data": {
      "text/plain": [
       "'yEnt'"
      ]
     },
     "execution_count": 152,
     "metadata": {},
     "output_type": "execute_result"
    }
   ],
   "source": [
    "                              #Slicing (works for indexable object str,list,tuple)\n",
    "s=\"PythonIsEasy\"\n",
    "s[0] # 'P'\n",
    "s[-1] # 'y'        negative indexing allowed\n",
    "s[-2] # 's'\n",
    "\n",
    "s[0:6] #'Python'    0 included, 6 excluded\n",
    "s[:6] # 'Python'\n",
    "s[0:] #'PythonIsEasy'\n",
    "s[8:] #'Easy'\n",
    "s[-3:] # 'asy'\n",
    "s[:-5] #'PythonI'\n",
    "s[:len(s)] #'PythonIsEasy'\n",
    "\n",
    "s[2:10:2] #'toIE'   2 is step length\n",
    "s[::3] #'PhIa'\n",
    "s[::-1] #'ysaEsInohtyP'\n",
    "s[::-3] #'yEnt'"
   ]
  },
  {
   "cell_type": "markdown",
   "id": "eb56cf5e",
   "metadata": {},
   "source": [
    "#  list  []"
   ]
  },
  {
   "cell_type": "code",
   "execution_count": 194,
   "id": "3f628a3a",
   "metadata": {},
   "outputs": [
    {
     "data": {
      "text/plain": [
       "[1, 2, 3, 4, 5]"
      ]
     },
     "execution_count": 194,
     "metadata": {},
     "output_type": "execute_result"
    }
   ],
   "source": [
    "# Order is important\n",
    "# Can have differnet Data Types in one list\n",
    "# mutable\n",
    "l1=['Tiger','Cat','Lion','fox','Monkey']\n",
    "l2=[1,\"Python\",True,8.9,[1,2,3,4,5]]     #we can't sort the list having differnet dataTypes \n",
    "l1[2] # 'Lion'\n",
    "l2[4]\n",
    " "
   ]
  },
  {
   "cell_type": "code",
   "execution_count": 248,
   "id": "00a02c2e",
   "metadata": {},
   "outputs": [
    {
     "data": {
      "text/plain": [
       "True"
      ]
     },
     "execution_count": 248,
     "metadata": {},
     "output_type": "execute_result"
    }
   ],
   "source": [
    "                            # list Methods\n",
    "m_list=[1,2,3,4,6,8]\n",
    "m_list.append(7)    #adds at last\n",
    "m_list.insert(4,5)  #(index,value)\n",
    "\n",
    "m_list.remove(8)    # removes the first occurence\n",
    "m_list.pop()        #remove and return the element at specified position, by default last\n",
    "#m_list.clear()      # remove all elements\n",
    "\n",
    "m_list.index(6)      #returns the index of element, if not found then error\n",
    "m_list.count(3)      #returns the count of the element\n",
    "\n",
    "\n",
    "m_list.reverse()     #set orders of the list in reverse  # if we want a copy of reversed list then m_list[::-1] can be used\n",
    "m_list.copy()        #returns the copy of the list\n",
    "\n",
    "a_list=[\"c\",\"g\",\"d\",\"a\",\"b\",\"f\"]\n",
    "m_list.extend(a_list)    #adds elements of a list to the end of current list\n",
    "\n",
    "a_list.sort()        #sort(reverse=True), sort(key=lambda x:len(x))\n",
    "'g' in a_list        #return True if element is present in list"
   ]
  },
  {
   "cell_type": "code",
   "execution_count": 259,
   "id": "d09a11cf",
   "metadata": {},
   "outputs": [
    {
     "name": "stdout",
     "output_type": "stream",
     "text": [
      "[0, 2, 3, 4, 5]\n",
      "[0, 2, 3, 4, 5]\n"
     ]
    }
   ],
   "source": [
    "#List unpacking\n",
    "a,b=[1,2]   #=> a=1,b=2\n",
    "\n",
    "a,*b=[1,2,3,4,5,6]  #=> a=1, b=[2,3,4,5,6]\n",
    "\n",
    "a,*b,c=[1,2,3,4,5]    #=> a=1, b=[2,3,4], c=5\n",
    "\n",
    "a,b,*c,d=[1,2,3,4,5]    #=> a=1, b=2, c=[3,4], c=5\n",
    "\n",
    "\n",
    "#important note\n",
    "list1=[1,2,3,4,5]\n",
    "list2=list1  #here list2 will find list1 in memory and if we change something in list2, it will be reflected in list1 and vice-versa\n",
    "list2[0]=0\n",
    "print(list1)\n",
    "print(list2)\n",
    "# solution for this is that we can take copy of list and work on that\n",
    "# like -> list2=list1.copy() or list2=list[:]"
   ]
  },
  {
   "cell_type": "code",
   "execution_count": null,
   "id": "0f3188ec",
   "metadata": {},
   "outputs": [],
   "source": []
  },
  {
   "cell_type": "markdown",
   "id": "95760f0b",
   "metadata": {},
   "source": [
    "# tuple ()"
   ]
  },
  {
   "cell_type": "code",
   "execution_count": 269,
   "id": "92fa4be7",
   "metadata": {},
   "outputs": [
    {
     "data": {
      "text/plain": [
       "(3, 2, 3)"
      ]
     },
     "execution_count": 269,
     "metadata": {},
     "output_type": "execute_result"
    }
   ],
   "source": [
    "#Quite similar to list []\n",
    "#immutable or unchangable\n",
    "#faster the list\n",
    "\n",
    "t=(1,3,2,3,4)\n",
    "\n",
    "#tuple has only two builtin method\n",
    "t.count(3)\n",
    "t.index(3)\n",
    "\n",
    "#t[0]=0 => not possibel to change the value of tuple\n",
    "t[1:4]"
   ]
  },
  {
   "cell_type": "markdown",
   "id": "bb8f25c6",
   "metadata": {},
   "source": [
    "# set{}"
   ]
  },
  {
   "cell_type": "code",
   "execution_count": 537,
   "id": "0d50467c",
   "metadata": {},
   "outputs": [
    {
     "data": {
      "text/plain": [
       "{1, 2, 3, 4, 5}"
      ]
     },
     "execution_count": 537,
     "metadata": {},
     "output_type": "execute_result"
    }
   ],
   "source": [
    "#contains unique value\n",
    "#Unordered \n",
    "#Unindexed\n",
    "\n",
    "my_set={1,2,6,4,8}\n",
    "\n",
    "#converting list or tuple to set\n",
    "my_set=set([1,2,3,3,3,4,5,5])\n",
    "my_set"
   ]
  },
  {
   "cell_type": "code",
   "execution_count": 590,
   "id": "f94540ce",
   "metadata": {},
   "outputs": [
    {
     "data": {
      "text/plain": [
       "True"
      ]
     },
     "execution_count": 590,
     "metadata": {},
     "output_type": "execute_result"
    }
   ],
   "source": [
    "                                # set Methods\n",
    "st={1,2,3,4,5}\n",
    "st.add(0)\n",
    "st.discard(9) #removes the value from set  #also .remove(value) but that will give error if element is not present in the set\n",
    "st.update([7,8,3]) #adds all the element from iterable(list,set,str) to the set\n",
    "st.copy() #returns the copy of the list\n",
    "#st.clear()  # remove all elements\n",
    "\n",
    "s1={1,2,3,4,5}\n",
    "s2={2,3,4,6}\n",
    "s3={4,1}\n",
    "s1.difference(s2)         #{1,5}   returns a set that contains items that exist only in s1 and not in s2,s3,s4.....\n",
    "#s1.difference_update(s2) #do the same but saves the item and return None\n",
    "s1.intersection(s2)       #{2,3,4}   returns a set that is intersection of two or more sets\n",
    "#s1.intersection_update(s2) #do the same but saves the item and return None\n",
    "s1.union(s2,s3)                 #returns the union of set or sets\n",
    "\n",
    "s1.isdisjoint(s2)          # retruns whether the set have a itersection or not with the input set\n",
    "s3.issubset(s1)            #returns whether another set contains this set or not\n",
    "s1.issuperset(s3)          #returns whether this set contains another set or not\n"
   ]
  },
  {
   "cell_type": "markdown",
   "id": "12f6c904",
   "metadata": {},
   "source": [
    "## dict{key1:value1,key2:value2.......}"
   ]
  },
  {
   "cell_type": "code",
   "execution_count": 20,
   "id": "0ace61d6",
   "metadata": {},
   "outputs": [
    {
     "data": {
      "text/plain": [
       "121"
      ]
     },
     "execution_count": 20,
     "metadata": {},
     "output_type": "execute_result"
    }
   ],
   "source": [
    "#dictionary is a set ok key-value pair\n",
    "dct={'id':121,'name':'Ajay','Dept':'IT'}\n",
    "dct.get('id')  #or dct['id']"
   ]
  },
  {
   "cell_type": "code",
   "execution_count": 23,
   "id": "e8df305b",
   "metadata": {},
   "outputs": [
    {
     "data": {
      "text/plain": [
       "dict_items([('id', 121), ('name', 'Rahul'), ('Dept', 'IT'), ('age', 23)])"
      ]
     },
     "execution_count": 23,
     "metadata": {},
     "output_type": "execute_result"
    }
   ],
   "source": [
    "                    #Dictionary Methods\n",
    "dct.get('name')                        # returns the value of respective key else None if not found\n",
    "dct.get('age','not available')         # dct.get(key,default_value) returns the default value if key is not present in dict\n",
    "dct.update({'name':\"Rahul\",'age':23})  # update the dict\n",
    "#dct.pop('name')                        # removes the particular item. it gives error if key is not present\n",
    "dct.copy()                             #returns the copy of \n",
    "#dct.clear()                            # clears the dictionary\n",
    "\n",
    "\n",
    "\n",
    "dct.keys()   #return the list of keys\n",
    "dct.values()   #return the list of values\n",
    "dct.items()      #return the list of key-value pair in tuple format"
   ]
  },
  {
   "cell_type": "code",
   "execution_count": null,
   "id": "fb5692e5",
   "metadata": {},
   "outputs": [],
   "source": [
    "#iterate through dictionary\n",
    "for x in dct.items():\n",
    "    print(x)\n",
    "for k in dct:\n",
    "    print(k)\n",
    "for k,v in dct.items():\n",
    "    print(k,v)"
   ]
  },
  {
   "cell_type": "code",
   "execution_count": 83,
   "id": "a0888978",
   "metadata": {},
   "outputs": [
    {
     "data": {
      "text/plain": [
       "True"
      ]
     },
     "execution_count": 83,
     "metadata": {},
     "output_type": "execute_result"
    }
   ],
   "source": [
    "dct1={'a':1,'b':2,'c':3}\n",
    "dct2={'b':2,'c':3,'a':1}\n",
    "dct1==dct2   #because order dosen't matter in dictionary"
   ]
  },
  {
   "cell_type": "code",
   "execution_count": null,
   "id": "f5dbc576",
   "metadata": {},
   "outputs": [],
   "source": []
  },
  {
   "cell_type": "markdown",
   "id": "be5772e2",
   "metadata": {},
   "source": [
    "# Part-II"
   ]
  },
  {
   "cell_type": "markdown",
   "id": "e4ea7610",
   "metadata": {},
   "source": [
    "# If-else,  for, while, function"
   ]
  },
  {
   "cell_type": "markdown",
   "id": "51b2f16a",
   "metadata": {},
   "source": [
    "## if-elif-else"
   ]
  },
  {
   "cell_type": "code",
   "execution_count": null,
   "id": "6e69b675",
   "metadata": {},
   "outputs": [],
   "source": [
    "#conditional operators->   >, <, >=, <=, ==, !=, and, or, not    \n",
    "age=int(input(\"Enter Age: \"))\n",
    "\n",
    "if age<18:\n",
    "    print(\"Not eligible for voting\")\n",
    "elif age==18:\n",
    "    print(\"You became eligible to vote this year\")\n",
    "else:\n",
    "    print(\"You can vote\")"
   ]
  },
  {
   "cell_type": "code",
   "execution_count": null,
   "id": "1f8b972b",
   "metadata": {},
   "outputs": [],
   "source": [
    "                #Truthy vs Falsy\n",
    "# empty list,set,dict are falsy\n",
    "print(bool(\"hello\"))\n",
    "print(bool(\"\"))\n",
    "print(bool(5))\n",
    "print(bool(0))\n",
    "print(bool(None))\n",
    "\n"
   ]
  },
  {
   "cell_type": "code",
   "execution_count": 31,
   "id": "d890c13b",
   "metadata": {},
   "outputs": [
    {
     "data": {
      "text/plain": [
       "'message allowed'"
      ]
     },
     "execution_count": 31,
     "metadata": {},
     "output_type": "execute_result"
    }
   ],
   "source": [
    "                    # ternary operator\n",
    "# condition_if_true if condition else condition_if_false\n",
    "is_friend=True\n",
    "s=\"message allowed\" if is_friend else \"message not allowed\"\n",
    "s"
   ]
  },
  {
   "cell_type": "code",
   "execution_count": null,
   "id": "7edaef9d",
   "metadata": {},
   "outputs": [],
   "source": [
    "                # is vs ==\n",
    "# is checks for both location in memory and value\n",
    "print(1 is 1)"
   ]
  },
  {
   "cell_type": "markdown",
   "id": "94d28ea7",
   "metadata": {},
   "source": [
    "## for loop"
   ]
  },
  {
   "cell_type": "code",
   "execution_count": 57,
   "id": "ab7e2a5c",
   "metadata": {},
   "outputs": [
    {
     "name": "stdout",
     "output_type": "stream",
     "text": [
      "1 2 3 4 5 \n",
      "my\n",
      "name\n",
      "is\n",
      "ajay\n"
     ]
    }
   ],
   "source": [
    "                # for loop\n",
    "# syntax-> for item in iterable:\n",
    "# iterable-> it is an object or collection that can be iterated, str,list,set,tuple,dict\n",
    "\n",
    "for i in [1,2,3,4,5]:\n",
    "    print(i,end=\" \")\n",
    "print()  \n",
    "for x in \"my name is ajay\".split():\n",
    "    print(x)"
   ]
  },
  {
   "cell_type": "code",
   "execution_count": 53,
   "id": "4995742c",
   "metadata": {},
   "outputs": [],
   "source": [
    "#range(n) = range(0,n) = range(0,n,1)\n",
    "\n",
    "for _ in range(0,10,2):\n",
    "    print(_)\n",
    "\n",
    "for _ in range(10,0,-1):\n",
    "    print(_)\n",
    "\n",
    "    \n",
    "# convert range to list\n",
    "l=list(range(10))\n",
    "\n"
   ]
  },
  {
   "cell_type": "code",
   "execution_count": 55,
   "id": "345e5e52",
   "metadata": {},
   "outputs": [],
   "source": [
    "# enumerate -> used in for iterable object if we need index also\n",
    "for i,c in enumerate(\"ajay\"):\n",
    "    print(i,c)\n",
    "    #same as\n",
    "for enm in enumerate(\"ajay\"):\n",
    "    print(enm[0],enm[1])"
   ]
  },
  {
   "cell_type": "code",
   "execution_count": 56,
   "id": "89722a02",
   "metadata": {},
   "outputs": [
    {
     "data": {
      "text/plain": [
       "['a', 'd', 'f']"
      ]
     },
     "execution_count": 56,
     "metadata": {},
     "output_type": "execute_result"
    }
   ],
   "source": [
    "# Q-> find duplicate characters in string\n",
    "s=\"aabcddefffgh\"\n",
    "l=[]\n",
    "for c in s:\n",
    "    if s.count(c)>1:\n",
    "        if c not in l:\n",
    "            l.append(c)\n",
    "l"
   ]
  },
  {
   "cell_type": "markdown",
   "id": "38c43eb0",
   "metadata": {},
   "source": [
    "## while loop"
   ]
  },
  {
   "cell_type": "code",
   "execution_count": null,
   "id": "105321e0",
   "metadata": {},
   "outputs": [],
   "source": [
    "#while loop\n",
    "#syntex while condition:\n",
    "while True:\n",
    "    resp=input(\"say something: \")\n",
    "    if(resp==\"hi\"):\n",
    "        continue;\n",
    "    if(resp==\"bye\"):\n",
    "        break;\n",
    "    "
   ]
  },
  {
   "cell_type": "markdown",
   "id": "3977a7b1",
   "metadata": {},
   "source": [
    "## function"
   ]
  },
  {
   "cell_type": "code",
   "execution_count": null,
   "id": "ff9b5de6",
   "metadata": {},
   "outputs": [],
   "source": [
    "#function\n",
    "def can_vote(name=\"Default_Name\",age=0): # here we have assigned default parameters if user don't give the values when calling\n",
    "    #docString\n",
    "    '''\n",
    "    this function tells if a person can vote or not\n",
    "    '''\n",
    "    if(age>=18):\n",
    "        print(f\"Hi {name} you can vote.\")\n",
    "    else:\n",
    "        print(f\"Hi {name} you can vote after {18-age} years\")\n",
    "        \n",
    "\n",
    "#calling by position arguments       \n",
    "can_vote(\"ajay\",18)\n",
    "\n",
    "#calling by keyword arguments\n",
    "can_vote(age=16,name=\"Rahul\")\n",
    "\n",
    "\n",
    "#default calling\n",
    "can_vote() \n",
    "can_vote(\"ajay\") \n",
    "can_vote(age=18)\n"
   ]
  },
  {
   "cell_type": "code",
   "execution_count": 115,
   "id": "a67f5804",
   "metadata": {},
   "outputs": [
    {
     "name": "stdout",
     "output_type": "stream",
     "text": [
      "Help on function can_vote in module __main__:\n",
      "\n",
      "can_vote(name='Default_Name', age=0)\n",
      "    this function tells if a person can vote or not\n",
      "\n"
     ]
    }
   ],
   "source": [
    "#checking the function description\n",
    "can_vote.__doc__\n",
    "help(can_vote)"
   ]
  },
  {
   "cell_type": "markdown",
   "id": "809688f1",
   "metadata": {},
   "source": [
    "###    * *args and ***kwargs"
   ]
  },
  {
   "cell_type": "code",
   "execution_count": 59,
   "id": "806ce000",
   "metadata": {},
   "outputs": [
    {
     "name": "stdout",
     "output_type": "stream",
     "text": [
      "keyword arguments->  {'a1': 6, 'a2': 7}\n",
      "all argumnets->  (1, 2, 3, 4, 5)\n",
      "sum of all arguments=  15\n",
      "sum of keyword arguments=  13\n"
     ]
    }
   ],
   "source": [
    "# all arguments and  keyword arguments\n",
    "def test(*args,**kwargs):\n",
    "    print(\"keyword arguments-> \",kwargs)\n",
    "    print(\"all argumnets-> \",args)\n",
    "    print(\"sum of all arguments= \",sum(args))\n",
    "    skw=0\n",
    "    for i in kwargs.values():\n",
    "        skw+=i\n",
    "    print(\"sum of keyword arguments= \",skw)\n",
    "    \n",
    "test(1,2,3,4,5,a1=6,a2=7)"
   ]
  },
  {
   "cell_type": "code",
   "execution_count": null,
   "id": "326e22f5",
   "metadata": {},
   "outputs": [],
   "source": [
    "                #walrus Operator :=\n",
    "# := assigns values to variables as part of a larger expression\n",
    "s=\"my name is ajay\"\n",
    "if ( n:=len(s) ) >10:\n",
    "    print(f\"string is {n} character long\")"
   ]
  },
  {
   "cell_type": "code",
   "execution_count": 71,
   "id": "a30f592e",
   "metadata": {},
   "outputs": [
    {
     "name": "stdout",
     "output_type": "stream",
     "text": [
      "accessing global x in outer:  g\n",
      "accessing nonlocal y:  inner\n"
     ]
    }
   ],
   "source": [
    "                #global and nonlocal keyword\n",
    "x=\"g\"\n",
    "y=\"g\"\n",
    "\n",
    "\n",
    "\n",
    "def outer():\n",
    "    global x\n",
    "    print(\"accessing global x in outer: \",x)\n",
    "    y=\"outer\"\n",
    "    def inner():\n",
    "        nonlocal y\n",
    "        y=\"inner\"\n",
    "        print(\"accessing nonlocal y: \",y)\n",
    "    inner()\n",
    "    \n",
    "    \n",
    "outer()\n",
    "\n",
    "\n",
    "\n",
    "# def func():\n",
    "#     x=2\n",
    "\n",
    "# def func2():\n",
    "#     global x\n",
    "#     x=2\n",
    "# func()\n",
    "# print(x)"
   ]
  },
  {
   "cell_type": "code",
   "execution_count": 74,
   "id": "026103f1",
   "metadata": {},
   "outputs": [
    {
     "data": {
      "text/plain": [
       "10"
      ]
     },
     "execution_count": 74,
     "metadata": {},
     "output_type": "execute_result"
    }
   ],
   "source": [
    "#Q find largest even number\n",
    "l=[2,5,10,4,7,9]\n",
    "e=list(filter(lambda x: (x % 2 == 0), l)) \n",
    "res=max(e)\n",
    "res\n"
   ]
  },
  {
   "cell_type": "code",
   "execution_count": null,
   "id": "ce674b5f",
   "metadata": {},
   "outputs": [],
   "source": []
  },
  {
   "cell_type": "code",
   "execution_count": null,
   "id": "27c2a48e",
   "metadata": {},
   "outputs": [],
   "source": []
  },
  {
   "cell_type": "markdown",
   "id": "1ce4876e",
   "metadata": {},
   "source": [
    "# Part-III"
   ]
  },
  {
   "cell_type": "markdown",
   "id": "9ddaf1d9",
   "metadata": {},
   "source": [
    "# ..................OOP................"
   ]
  },
  {
   "cell_type": "code",
   "execution_count": 24,
   "id": "3c865936",
   "metadata": {},
   "outputs": [
    {
     "name": "stdout",
     "output_type": "stream",
     "text": [
      "your name is ajay and age is 23.\n"
     ]
    },
    {
     "data": {
      "text/plain": [
       "True"
      ]
     },
     "execution_count": 24,
     "metadata": {},
     "output_type": "execute_result"
    }
   ],
   "source": [
    "class Person:\n",
    "    is_live=True                  # class object attribute\n",
    "    def __init__(self,name,age):  #initializes the object, called everytime when we create object\n",
    "        self.name=name            #dynamic attribute\n",
    "        self.age=age\n",
    "    def details(self):\n",
    "        print(f\"your name is {self.name} and age is {self.age}.\")\n",
    "        \n",
    "obj=Person(\"ajay\",23)\n",
    "obj.height=5.4                     # we can also set new variable or method to the object\n",
    "\n",
    "obj.name\n",
    "obj.age\n",
    "obj.height\n",
    "obj.details()\n",
    "Person.is_live"
   ]
  },
  {
   "cell_type": "code",
   "execution_count": 241,
   "id": "fe958e28",
   "metadata": {},
   "outputs": [
    {
     "data": {
      "text/plain": [
       "2"
      ]
     },
     "execution_count": 241,
     "metadata": {},
     "output_type": "execute_result"
    }
   ],
   "source": [
    "# @classmethod and @staticmethod\n",
    "class Model:\n",
    "    def __init__(self,id,name):\n",
    "        self.id=id\n",
    "        self.name=name\n",
    "        \n",
    "    @classmethod\n",
    "    def cmethod(cls,x):      #cls parameter is required, we can use this to initialize the abject with the help of cls, not used so much\n",
    "        return cls(x,\"ajay\")\n",
    "    \n",
    "    @staticmethod\n",
    "    def smethod(x):\n",
    "        return x\n",
    "    \n",
    "    def fun():\n",
    "        return \"fun\"\n",
    "        \n",
    "        \n",
    "        \n",
    "Model.cmethod(2).name\n",
    "Model.smethod(2)\n",
    "\n",
    "\n",
    "    "
   ]
  },
  {
   "cell_type": "code",
   "execution_count": 45,
   "id": "b6b3171a",
   "metadata": {},
   "outputs": [],
   "source": [
    "                        #abstraction\n",
    "#it is the process of hiding certain details and showing only essential information to the user\n",
    "#in python there is no any private keyword\n",
    "# by convention we use one _ in starting of variable or method or function\n",
    "# e.g _name , _myMethod   etc\n",
    "class Abstraction_demo:\n",
    "    def __init__(self,id,name):\n",
    "        self._id=id    #by convention we will consider that _name is not meant to modify or it is private\n",
    "        self._name=name\n",
    "obj=Abstraction_demo(\"ajay\",23)\n",
    "#obj.name   -> this dosen't exit"
   ]
  },
  {
   "cell_type": "code",
   "execution_count": 29,
   "id": "8ace56e7",
   "metadata": {},
   "outputs": [
    {
     "name": "stdout",
     "output_type": "stream",
     "text": [
      "ajay\n",
      "A\n"
     ]
    },
    {
     "data": {
      "text/plain": [
       "'ajay@gmail.com'"
      ]
     },
     "execution_count": 29,
     "metadata": {},
     "output_type": "execute_result"
    }
   ],
   "source": [
    "                                #Inheritance\n",
    "# it allows new object to take properties of existing object\n",
    "class A:\n",
    "    def __init__(self,name):\n",
    "        self.name=name\n",
    "        print(name)\n",
    "    def test(self):\n",
    "        print(\"A\")\n",
    "class B(A):\n",
    "    def __init__(self,name):   ## The child's __init__() function overrides the inheritance of the parent's __init__() function.\n",
    "        self.name=name\n",
    "        print(name)\n",
    "\n",
    "         \n",
    "b=B(\"ajay\")\n",
    "b.test()\n",
    "isinstance(b,B) #True\n",
    "isinstance(b,A) #True\n",
    "isinstance(b,object) #True\n",
    "\n",
    "## To keep the inheritance of the parent's __init__() function, add a call to the parent's __init__() function:\n",
    "class Parent:\n",
    "    def __init__(self,email):\n",
    "        self.email=email\n",
    "class Child(Parent):\n",
    "    def __init__(self,name,email):  \n",
    "        Parent.__init__(self,email)   ##this line can also be with  super()->  super().__init__(email)  #with super we don't need self =>super invokes the parent class\n",
    "        self.name=name\n",
    "c=Child(\"ajay\",\"ajay@gmail.com\")\n",
    "c.email"
   ]
  },
  {
   "cell_type": "code",
   "execution_count": 2,
   "id": "3c88c34b",
   "metadata": {},
   "outputs": [
    {
     "name": "stdout",
     "output_type": "stream",
     "text": [
      "Meow\n",
      "Bark\n"
     ]
    }
   ],
   "source": [
    "                            #Polymorphism\n",
    "# method overloading is not allowed in python.\n",
    "#we can achieve polymorphism in many ways like below\n",
    "class Cat:\n",
    "    def speak():\n",
    "        print(\"Meow\")\n",
    "        pass\n",
    "    pass\n",
    "class Dog:\n",
    "    def speak():\n",
    "        print(\"Bark\")\n",
    "        pass\n",
    "    pass\n",
    "\n",
    "def animalSound(anim):\n",
    "    anim.speak()\n",
    "    pass\n",
    "\n",
    "animalSound(Cat)\n",
    "animalSound(Dog)\n",
    "        "
   ]
  },
  {
   "cell_type": "code",
   "execution_count": null,
   "id": "6c6ce08d",
   "metadata": {},
   "outputs": [],
   "source": []
  },
  {
   "cell_type": "code",
   "execution_count": 86,
   "id": "d28aadce",
   "metadata": {},
   "outputs": [
    {
     "data": {
      "text/plain": [
       "toy name is Car and color is red"
      ]
     },
     "execution_count": 86,
     "metadata": {},
     "output_type": "execute_result"
    }
   ],
   "source": [
    "# Dunder method  all predefine methods whose name starts with __\n",
    "class Toy:\n",
    "    def __init__(self,name,color):\n",
    "        self.color=color\n",
    "        self.name=name\n",
    "        self.mydict={1:\"one\",2:\"two\"}\n",
    "        \n",
    "    def __str__(self):    #here we are modifying the str() function for this class. like overriding the toString in java\n",
    "        return f\"toy name is {self.name} and color is {self.color}\"\n",
    "    def __repr__(self):   #it represnts the object , we don't need to call str function.\n",
    "        return f\"toy name is {self.name} and color is {self.color}\"\n",
    "    \n",
    "    def __len__(self):  #len()\n",
    "        return 2;\n",
    "    def __call__(self):\n",
    "        return \"you called me\"\n",
    "    def __getitem__(self,i):\n",
    "        if i not in self.mydict.keys():\n",
    "            return \"no value available\"\n",
    "        return self.mydict[i]\n",
    "    \n",
    "t=Toy(\"Car\",\"red\")\n",
    "str(t)   #__str__\n",
    "len(t)   #__len__\n",
    "t()      #__call__\n",
    "t[1]     #__getitem__\n",
    "t        #__repr__"
   ]
  },
  {
   "cell_type": "code",
   "execution_count": 30,
   "id": "057cb88c",
   "metadata": {},
   "outputs": [
    {
     "data": {
      "text/plain": [
       "[__main__.D, __main__.B, __main__.C, __main__.A, object]"
      ]
     },
     "execution_count": 30,
     "metadata": {},
     "output_type": "execute_result"
    }
   ],
   "source": [
    "# mro -> method resolution order __mro__\n",
    "class A:\n",
    "    x=\"A\"\n",
    "class B(A):\n",
    "    x=\"B\"\n",
    "class C(A):\n",
    "    x=\"C\"\n",
    "class D(B,C):\n",
    "    pass\n",
    "\n",
    "D.x\n",
    "D.mro() # tells the hierarchy of the class"
   ]
  },
  {
   "cell_type": "code",
   "execution_count": null,
   "id": "44a0d5f1",
   "metadata": {},
   "outputs": [],
   "source": []
  },
  {
   "cell_type": "code",
   "execution_count": null,
   "id": "0fbbeb03",
   "metadata": {},
   "outputs": [],
   "source": []
  },
  {
   "cell_type": "markdown",
   "id": "0990baf4",
   "metadata": {},
   "source": [
    "# Part-IV"
   ]
  },
  {
   "cell_type": "markdown",
   "id": "6757d183",
   "metadata": {},
   "source": [
    "# Functional Programming"
   ]
  },
  {
   "cell_type": "code",
   "execution_count": 69,
   "id": "2ae71728",
   "metadata": {},
   "outputs": [
    {
     "name": "stdout",
     "output_type": "stream",
     "text": [
      "[2, 'ajayajay']\n",
      "[1, 3, 7, 9]\n"
     ]
    },
    {
     "data": {
      "text/plain": [
       "[(1, 'ajay', 21), (2, 'rahul', 22), (3, 'vicky', 23)]"
      ]
     },
     "execution_count": 69,
     "metadata": {},
     "output_type": "execute_result"
    }
   ],
   "source": [
    "#functional Programming\n",
    "# map() filter() zip() reduce()\n",
    "#a Pure function is a function that dosen't effect outside world\n",
    "\n",
    "\n",
    "#map(function,iterable) -> we always get same number of output which we provided as iterble\n",
    "\n",
    "def mul(item):  \n",
    "    return 2*item\n",
    "a=[1,\"ajay\"]\n",
    "\n",
    "print(list(map(mul,a)))   #a not changed\n",
    "\n",
    "\n",
    "#filter(function,iterable)\n",
    "\n",
    "def only_odd(item):\n",
    "    return item % 2 != 0\n",
    "l=[1,4,6,3,8,7,9,0]\n",
    "print(list(filter(only_odd,l)))\n",
    "\n",
    "\n",
    "#zip(iter1,iter2,iter3......) -> return the list of tuple for same index \n",
    "id=(1,2,3)\n",
    "name=[\"ajay\",\"rahul\",\"vicky\"]\n",
    "age=(21,22,23)\n",
    "list(zip(id,name,age))\n",
    "\n",
    "#reduce()"
   ]
  },
  {
   "cell_type": "markdown",
   "id": "d0b623b4",
   "metadata": {},
   "source": [
    "## Lambda Expression"
   ]
  },
  {
   "cell_type": "code",
   "execution_count": null,
   "id": "7d25c928",
   "metadata": {},
   "outputs": [],
   "source": [
    "#lambda expression-> one line anonymous function\n",
    "# lambda param:action(param)"
   ]
  },
  {
   "cell_type": "code",
   "execution_count": 190,
   "id": "f5a5f201",
   "metadata": {},
   "outputs": [
    {
     "data": {
      "text/plain": [
       "9"
      ]
     },
     "execution_count": 190,
     "metadata": {},
     "output_type": "execute_result"
    }
   ],
   "source": [
    "lam=lambda x:x*2\n",
    "lam(5)\n",
    "add=lambda a,b:a+b\n",
    "add(2,6)\n",
    "\n",
    "\n",
    "list( map( lambda x:x*2, [1,2,3]))\n",
    "\n",
    "list( filter( lambda x:x%2!=0, [1,2,3]))\n",
    "\n",
    "from functools import reduce\n",
    "my_list=[1,2,3,4,5]\n",
    "x=reduce(lambda acc,item : acc+item, my_list)  #will give sum of list\n",
    "\n",
    "\n",
    "\n",
    "\n",
    "l1=[\"d\",\"c\",\"abcd\",\"a\",\"aa\",\"ab\",\"bc\"]\n",
    "l1.sort(key=lambda x:(len(x),x))  # sorting the list based on length and then alphabetically\n",
    "l1\n",
    "\n",
    "lst = [('candy','30','100'), ('apple','10','200'), ('baby','20','300')]\n",
    "lst.sort(key=lambda x:x[1])  #sorting the list of list or tuple based on their 2nd element\n",
    "lst\n",
    "\n",
    "\n",
    "max(lst,key=lambda x:x[2]) #getting the max element(list or tuple) based on their 2nd element from list of list or tuple\n",
    "\n",
    "\n",
    "# we can also return a lambda function from a function\n",
    "def multiplyBy (n):\n",
    "    return lambda x:x*n\n",
    "double=multiplyBy(2)  # now it's a lambda expression\n",
    "triple=multiplyBy(3)\n",
    "double(3)\n",
    "triple(3)"
   ]
  },
  {
   "cell_type": "markdown",
   "id": "2b0d383b",
   "metadata": {},
   "source": [
    "## List, set, dictionary comprehension"
   ]
  },
  {
   "cell_type": "code",
   "execution_count": 232,
   "id": "09ee227a",
   "metadata": {},
   "outputs": [
    {
     "data": {
      "text/plain": [
       "{'a', 'd', 'f'}"
      ]
     },
     "execution_count": 232,
     "metadata": {},
     "output_type": "execute_result"
    }
   ],
   "source": [
    "#List Comprehension\n",
    "\n",
    "# new_list = [<param or action on param> for param in iterable]\n",
    "char_list=[char for char in \"hello\"]  #creating list of character from the string\n",
    "char_list\n",
    "my_list1=[num*2 for num in range(1,11)] #creating table of 2\n",
    "my_list1\n",
    "my_list2=[num**2 for num in range(1,11) if num %2 ==0 ] #square of even numbers\n",
    "my_list2\n",
    "\n",
    "#Set Comprehension same as List Comprehension\n",
    "my_set={int(num/3) for num in range(0,20,2)}\n",
    "my_set\n",
    "\n",
    "#Dictionary Comprehension\n",
    "dct={'a':1,'b':2,'c':3}\n",
    "my_dct={k*2:v*2 for k,v in dct.items()} #multiplying the values by 2\n",
    "my_dct\n",
    "\n",
    "new_dct={num:num**2 for num in range(1,11)} #creating a dictionary of squares\n",
    "new_dct\n",
    "\n",
    "\n",
    "\n",
    "\n",
    "#question\n",
    "# Q-> find duplicate characters in string\n",
    "s=\"aabcddefffgh\"  #res-> a,d,f\n",
    "res={x for x in s if s.count(x)>1}\n",
    "res"
   ]
  },
  {
   "cell_type": "code",
   "execution_count": null,
   "id": "0bb4f229",
   "metadata": {},
   "outputs": [],
   "source": []
  },
  {
   "cell_type": "markdown",
   "id": "971d0d14",
   "metadata": {},
   "source": [
    "# Part-V"
   ]
  },
  {
   "cell_type": "markdown",
   "id": "551943f2",
   "metadata": {},
   "source": [
    "# Decorator"
   ]
  },
  {
   "cell_type": "code",
   "execution_count": null,
   "id": "206b1d8c",
   "metadata": {},
   "outputs": [],
   "source": [
    "# Decorators are a very powerful and useful tool in Python\n",
    "# since it allows programmers to modify the behaviour of a function or class"
   ]
  },
  {
   "cell_type": "code",
   "execution_count": null,
   "id": "3daaf1b5",
   "metadata": {},
   "outputs": [],
   "source": [
    "def create_adder(x):\n",
    "    def adder(y):\n",
    "        return x+y\n",
    "    \n",
    "    return adder\n",
    " \n",
    "add_15 = create_adder(15)\n",
    " \n",
    "print(add_15(10))\n"
   ]
  },
  {
   "cell_type": "code",
   "execution_count": null,
   "id": "89dbf96d",
   "metadata": {},
   "outputs": [],
   "source": [
    "def my_decorator(func):   #here my_decorator takes function as parameter and returns a function wrap_func\n",
    "    def wrap_func():\n",
    "        print(\"***********\")\n",
    "        func()\n",
    "        print(\"#########\")\n",
    "    return wrap_func\n",
    "\n",
    "#@my_decorator    # same as assigning a variable  my_decorator(hello) which returns a function\n",
    "def hello():\n",
    "    print(\"hello\")\n",
    "    pass\n",
    "\n",
    "hello()"
   ]
  },
  {
   "cell_type": "code",
   "execution_count": 247,
   "id": "19e06021",
   "metadata": {},
   "outputs": [
    {
     "name": "stdout",
     "output_type": "stream",
     "text": [
      "[0, 1000000, 2000000, 3000000, 4000000, 5000000, 6000000, 7000000, 8000000, 9000000]\n",
      "total time taken 0.8267889022827148 s\n"
     ]
    }
   ],
   "source": [
    "from time import time\n",
    "\n",
    "#make a program to calculate the perforamce of any function\n",
    "def performance(func):\n",
    "    def wrapper_func(*args,**kwargs):  #wrote this *args and **kwargs so that any function can use this \n",
    "        t1=time()\n",
    "        res=func(*args,**kwargs)\n",
    "        t2=time()\n",
    "        print(f'total time taken {t2-t1} s')\n",
    "        return res\n",
    "    return wrapper_func\n",
    "\n",
    "@performance\n",
    "def calculation(a,b):\n",
    "    l=[x for x in range(10000000) if x%1000000==0]\n",
    "    print(l)\n",
    "        \n",
    "\n",
    "calculation(3,6)    "
   ]
  },
  {
   "cell_type": "code",
   "execution_count": null,
   "id": "b4c3e85b",
   "metadata": {},
   "outputs": [],
   "source": []
  },
  {
   "cell_type": "markdown",
   "id": "c4d31866",
   "metadata": {},
   "source": [
    "# Part-VI"
   ]
  },
  {
   "cell_type": "markdown",
   "id": "ccfd7a50",
   "metadata": {},
   "source": [
    "# Error Handling"
   ]
  },
  {
   "cell_type": "code",
   "execution_count": null,
   "id": "4dc492db",
   "metadata": {},
   "outputs": [],
   "source": [
    "# ValueError\n",
    "#ZeroDivisionError\n",
    "\n",
    "'''\n",
    "try:\n",
    "    statemnt\n",
    "except:            #or except typeOfError:\n",
    "    statement action\n",
    "else:\n",
    "    action on no error\n",
    "finally:\n",
    "    statement that runs regardless at the end of everything\n",
    "'''"
   ]
  },
  {
   "cell_type": "code",
   "execution_count": null,
   "id": "e0211559",
   "metadata": {},
   "outputs": [],
   "source": [
    "i=0\n",
    "while True:\n",
    "    try:\n",
    "        age=int(input(\"Enter age: \"))\n",
    "        age=100/age\n",
    "    except ValueError:\n",
    "        print(\"please enter number\")\n",
    "        continue\n",
    "    except ZeroDivisionError:\n",
    "        print(\"sorry, you entered 0, so exiting\") \n",
    "        break\n",
    "    else:\n",
    "        print(\"good\")\n",
    "        break\n",
    "    finally:\n",
    "        i=i+1\n",
    "        print(f\"finally done {i} times\",end=\"\")\n",
    "\n",
    "    "
   ]
  },
  {
   "cell_type": "code",
   "execution_count": null,
   "id": "1e352b92",
   "metadata": {},
   "outputs": [],
   "source": [
    "def div(x,y):\n",
    "    try:\n",
    "        z=x/y\n",
    "    except (TypeError, ZeroDivisionError) as err:\n",
    "        print(\"error message:- \"+str(err))\n",
    "    else:\n",
    "        return z\n",
    "    finally:\n",
    "        print(\"div done\")\n",
    "\n",
    "        \n",
    "div(1,\"a\")"
   ]
  },
  {
   "cell_type": "code",
   "execution_count": null,
   "id": "8c09f27a",
   "metadata": {},
   "outputs": [],
   "source": [
    "# throw your own error\n",
    "#   raise\n",
    "try:\n",
    "    age=int(input(\"Enter age: \"))\n",
    "    age=100/age\n",
    "    raise ValueError(\"value error thorwn manually\")\n",
    "except TypeError:\n",
    "    print(\"except\")"
   ]
  },
  {
   "cell_type": "code",
   "execution_count": null,
   "id": "b95a2a7e",
   "metadata": {},
   "outputs": [],
   "source": []
  },
  {
   "cell_type": "markdown",
   "id": "224f9f35",
   "metadata": {},
   "source": [
    "# Part-VII"
   ]
  },
  {
   "cell_type": "markdown",
   "id": "7bb0484f",
   "metadata": {},
   "source": [
    "# Generators "
   ]
  },
  {
   "cell_type": "code",
   "execution_count": 82,
   "id": "9440d28c",
   "metadata": {},
   "outputs": [
    {
     "name": "stdout",
     "output_type": "stream",
     "text": [
      "4\n",
      "0\n",
      "2\n",
      "4\n",
      "6\n",
      "8\n",
      "10\n",
      "12\n",
      "14\n",
      "16\n",
      "18\n",
      "20\n",
      "22\n",
      "24\n",
      "26\n",
      "28\n",
      "30\n",
      "32\n",
      "34\n",
      "36\n",
      "38\n"
     ]
    }
   ],
   "source": [
    "\n",
    "#range() is a generator\n",
    "#creating own generator \n",
    "\n",
    "def generator_fun(num):\n",
    "    for i in range(num):\n",
    "        yield i*2   #pauses the function  and comes back to it when next is called #yield keyword makes the function generator\n",
    "g=generator_fun(6)\n",
    "next(g)\n",
    "next(g)\n",
    "print(next(g))\n",
    "\n",
    "for item in generator_fun(20):\n",
    "    print(item)\n"
   ]
  },
  {
   "cell_type": "code",
   "execution_count": null,
   "id": "0ede3e43",
   "metadata": {},
   "outputs": [],
   "source": []
  },
  {
   "cell_type": "markdown",
   "id": "1cf89c2e",
   "metadata": {},
   "source": [
    "# part-VIII"
   ]
  },
  {
   "cell_type": "markdown",
   "id": "16178f66",
   "metadata": {},
   "source": [
    "# Regular Expression"
   ]
  },
  {
   "cell_type": "code",
   "execution_count": null,
   "id": "d4ab8382",
   "metadata": {},
   "outputs": [],
   "source": [
    "import re"
   ]
  },
  {
   "cell_type": "code",
   "execution_count": null,
   "id": "e435efcf",
   "metadata": {},
   "outputs": [],
   "source": [
    "pattern=re.compile('Name')\n",
    "string=\"Name is Ajay what's your Name?\"\n",
    "\n",
    "a=pattern.search(string) #returns the match object\n",
    "#b=pattern.search(string).span() #returns the tuple of indexes where the match found, returns error when no match\n",
    "c=pattern.findall(string) #returns the list of matches\n",
    "d=pattern.match(string)\n",
    "print(d)"
   ]
  },
  {
   "cell_type": "code",
   "execution_count": null,
   "id": "c69ccaed",
   "metadata": {},
   "outputs": [],
   "source": [
    "#\n",
    "# ([a-zA-Z]).([a])     two group -> any character from a-z or A-Z + any character + a"
   ]
  },
  {
   "cell_type": "code",
   "execution_count": null,
   "id": "5b3f6f2c",
   "metadata": {},
   "outputs": [],
   "source": [
    "pattern=re.compile(r\"([a-zA-Z]).([a])\") # r means raw string that ask python interpreter to ignore everythig in the string like \\n, \\\\ etc\n",
    "string=\"my name ajay\"\n",
    "c=pattern.search(string)\n",
    "c   #<re.Match object; span=(6, 9), match='e a'>\n",
    "c.group() #'e a'\n",
    "c.span() #(6, 9)\n"
   ]
  },
  {
   "cell_type": "code",
   "execution_count": null,
   "id": "c469ed4e",
   "metadata": {},
   "outputs": [],
   "source": [
    "'''\n",
    "\n",
    "\\d -> digit 0-9\n",
    "\n",
    ". -> wildcard character   can match any single character\n",
    "\n",
    "\\. -> for dot only\n",
    "\n",
    "[abc]     will only match a single a, b, or c letter and nothing else.\n",
    "\n",
    "[^abc]     will match any single character except for the letters a, b, or c.\n",
    "\n",
    "[0-6]      will only match any single digit character from zero to six\n",
    "\n",
    "\n",
    "[^n-p]      will only match any single character except for letters n to p\n",
    "            Note-> ^ is inside\n",
    "\n",
    "\\w         alphanumeric, which is equivalent to the character range [A-Za-z0-9_] and often used to match characters in English text.\n",
    "\n",
    "a{3} will match the a character exactly three times\n",
    "\n",
    "a{1,3} will match the a character no more than 3 times, but no less than once\n",
    "\n",
    "a{5,} will match the a character 5 or more times\n",
    "\n",
    "[wxy]{5}  five characters, each of which can be a w, x, or y\n",
    "\n",
    ".{2,6} (any character between two and six times)\n",
    "\n",
    "\n",
    "\n",
    "'''"
   ]
  },
  {
   "cell_type": "code",
   "execution_count": null,
   "id": "f42f433f",
   "metadata": {},
   "outputs": [],
   "source": [
    "'''\n",
    "Kleene Star and the Kleene Plus\n",
    "*  zero or more\n",
    "+  one or more\n",
    "\n",
    "\n",
    "\n",
    "\\d*  match any number of digits\n",
    "\\d+  match at least one or more digit\n",
    "\n",
    "a+      (one or more a's)\n",
    "[abc]+  (one or more of any a, b, or c character)\n",
    ".*       (zero or more of any character).\n",
    "\n",
    "\n",
    "\n",
    "'''\n"
   ]
  },
  {
   "cell_type": "code",
   "execution_count": null,
   "id": "a6d7dc5b",
   "metadata": {},
   "outputs": [],
   "source": [
    "'''\n",
    "?    ->  Optional character\n",
    "\n",
    "ab?c   will match either the strings \"abc\" or \"ac\"\n",
    "\n",
    "question mark is a special character and you will have to escape it using a slash \\?\n",
    "\n",
    "\n",
    "WhiteSpace\n",
    "\n",
    "\\s will match any of the specific whitespaces\n",
    "\n",
    "'''"
   ]
  },
  {
   "cell_type": "code",
   "execution_count": null,
   "id": "3973cdca",
   "metadata": {},
   "outputs": [],
   "source": [
    "'''\n",
    "Starting and ending\n",
    "^ (hat) and $ (dollar)   pattern that describes both the start and the end of the line \n",
    "\n",
    "^success to match only a line that begins with the word \"success\"\n",
    "\n",
    ".pdf$ represent the end of string with name ending .pdf\n",
    "\n",
    "'''"
   ]
  },
  {
   "cell_type": "code",
   "execution_count": null,
   "id": "6d043fcd",
   "metadata": {},
   "outputs": [],
   "source": [
    "'''\n",
    "Match Groups\n",
    "extract information for further processing\n",
    "This is done by defining groups of characters and capturing them using the special parentheses ( and ) metacharacters.\n",
    "\n",
    "(^IMG\\d+)\\.(img$)   -> dividing the name in two groups\n",
    "\n",
    "\n",
    "Nested groups\n",
    "([a-zA-Z]{3}\\s(\\d{4}))    or   (\\w+\\s(\\d{4}))\n",
    "\n",
    "Jan 1987\tgr1->(Jan 1987) gr2-> (1987)\n",
    "\n",
    "\n",
    "\n",
    "'''"
   ]
  },
  {
   "cell_type": "code",
   "execution_count": null,
   "id": "ed52c85d",
   "metadata": {},
   "outputs": [],
   "source": [
    "'''\n",
    "| -> OR\n",
    "\n",
    "I love cats|dogs\n",
    "'''"
   ]
  },
  {
   "cell_type": "code",
   "execution_count": null,
   "id": "e22b3856",
   "metadata": {},
   "outputs": [],
   "source": [
    "'''\n",
    "Extra\n",
    "\n",
    "\\D  -> non-digit\n",
    "\n",
    "\\S  ->any non-whitespace\n",
    "\n",
    "\\W  ->any non-alphanumeric\n",
    "\n",
    "'''"
   ]
  },
  {
   "cell_type": "code",
   "execution_count": null,
   "id": "930ee2b4",
   "metadata": {},
   "outputs": [],
   "source": []
  },
  {
   "cell_type": "code",
   "execution_count": null,
   "id": "e02b952c",
   "metadata": {},
   "outputs": [],
   "source": [
    "#Examples\n",
    "'''\n",
    "\n",
    "r\"[A-Z]{5}\\d{4}[A-Z]\"   -> pan card also-> r\"[A-Z]{5}[0-9]{4}[A-Z]\"\n",
    "\n",
    "\n",
    "a{2,4}b*c+  -> 2-4 a's + zero or more b's + one or more c's => aabbbbcccc, aac, aabbbbbc\n",
    "\n",
    "-?[\\d,]+[.]?[\\de]*\\d$    -> decimal numbers => -12, 3.14, 1.9e0, 123,432.00\n",
    "\n",
    "(\\w+)\\.(png|jpg|gif)$    -> groups the filename and extension for image files\n",
    "\n",
    "'''"
   ]
  },
  {
   "cell_type": "code",
   "execution_count": null,
   "id": "0c33fde2",
   "metadata": {},
   "outputs": [],
   "source": [
    "\n",
    "pattern=re.compile(r\"[A-Z]{5}\\d{4}[A-Z]\")\n",
    "string=\"GMOPK9432E\"\n",
    "a=pattern.fullmatch(string)\n",
    "a"
   ]
  },
  {
   "cell_type": "code",
   "execution_count": null,
   "id": "db795d18",
   "metadata": {},
   "outputs": [],
   "source": [
    "string=\"09\\05\\1998\"\n",
    "pattern=re.compile(r\"(\\d{1,2})\")\n",
    "f=pattern.fullmatch(string)\n",
    "print(f)"
   ]
  },
  {
   "cell_type": "code",
   "execution_count": null,
   "id": "353dfa7e",
   "metadata": {},
   "outputs": [],
   "source": []
  },
  {
   "cell_type": "code",
   "execution_count": null,
   "id": "302acd01",
   "metadata": {},
   "outputs": [],
   "source": []
  },
  {
   "cell_type": "code",
   "execution_count": null,
   "id": "66b71afe",
   "metadata": {},
   "outputs": [],
   "source": []
  },
  {
   "cell_type": "code",
   "execution_count": null,
   "id": "292f4f11",
   "metadata": {},
   "outputs": [],
   "source": []
  },
  {
   "cell_type": "code",
   "execution_count": null,
   "id": "c86f0569",
   "metadata": {},
   "outputs": [],
   "source": []
  },
  {
   "cell_type": "code",
   "execution_count": null,
   "id": "b90507af",
   "metadata": {},
   "outputs": [],
   "source": []
  },
  {
   "cell_type": "code",
   "execution_count": null,
   "id": "97956930",
   "metadata": {},
   "outputs": [],
   "source": []
  },
  {
   "cell_type": "code",
   "execution_count": null,
   "id": "3b87dd8e",
   "metadata": {},
   "outputs": [],
   "source": []
  },
  {
   "cell_type": "code",
   "execution_count": null,
   "id": "04847e9b",
   "metadata": {},
   "outputs": [],
   "source": []
  },
  {
   "cell_type": "code",
   "execution_count": 156,
   "id": "39cf395c",
   "metadata": {},
   "outputs": [
    {
     "data": {
      "text/plain": [
       "id:-2, name:-'Ajay', age:-25, gender:-M"
      ]
     },
     "execution_count": 156,
     "metadata": {},
     "output_type": "execute_result"
    }
   ],
   "source": [
    "class Student:\n",
    "    def __init__(self,id,name,age,gender):\n",
    "        self.id=id\n",
    "        self.name=name\n",
    "        self.age=age\n",
    "        self.gender=gender\n",
    "        pass\n",
    "    def __repr__(self):\n",
    "        return f\"id:-{self.id}, name:-'{self.name}', age:-{self.age}, gender:-{self.gender}\"\n",
    "\n",
    "s1=Student(2,\"Ajay\",25,\"M\")\n",
    "s2=Student(3,\"Rahul\",21,\"M\")\n",
    "s3=Student(4,\"Rani\",26,\"F\")\n",
    "s4=Student(1,\"Raj\",19,\"M\")\n",
    "slist=[s1,s2,s3,s4]\n",
    "\n",
    "\n",
    "\n",
    "def sortByAge(students):\n",
    "    temp=students.copy()\n",
    "    temp.sort(key=lambda x: x.id)\n",
    "    return temp\n",
    "def findMaxAgeStudent(students):\n",
    "    def maleStudent(student):\n",
    "        return student.gender==\"M\"\n",
    "    maxAgeStudent = max(list(filter(maleStudent,students)), key=lambda x:x.age)\n",
    "    return maxAgeStudent\n",
    "\n",
    "sortByAge(slist)\n",
    "findMaxAgeStudent(slist)\n",
    "\n",
    "        \n",
    "        \n",
    "    "
   ]
  },
  {
   "cell_type": "code",
   "execution_count": 132,
   "id": "47d1cb9d",
   "metadata": {},
   "outputs": [
    {
     "data": {
      "text/plain": [
       "2"
      ]
     },
     "execution_count": 132,
     "metadata": {},
     "output_type": "execute_result"
    }
   ],
   "source": [
    "class Leave:\n",
    "    def __init__(self,leaveId,leaveType,noOfDays,dateOfApplication):\n",
    "        self.leaveId=leaveId\n",
    "        self.leaveType=leaveType\n",
    "        self.noOfDays=noOfDays\n",
    "        self.dateOfApplication=dateOfApplication\n",
    "        pass\n",
    "class Employee:\n",
    "    l_list=[]\n",
    "    l_bal={\"EL\":0,\"CL\":0,\"SL\":0}\n",
    "    def __init__(self,l_list,l_bal):\n",
    "        self.l_list=l_list\n",
    "        self.l_bal=l_bal\n",
    "\n",
    "e=Employee(1,2\n",
    "\n",
    "    "
   ]
  }
 ],
 "metadata": {
  "kernelspec": {
   "display_name": "Python 3 (ipykernel)",
   "language": "python",
   "name": "python3"
  },
  "language_info": {
   "codemirror_mode": {
    "name": "ipython",
    "version": 3
   },
   "file_extension": ".py",
   "mimetype": "text/x-python",
   "name": "python",
   "nbconvert_exporter": "python",
   "pygments_lexer": "ipython3",
   "version": "3.9.7"
  }
 },
 "nbformat": 4,
 "nbformat_minor": 5
}
