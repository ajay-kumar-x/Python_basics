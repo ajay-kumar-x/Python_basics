{
 "cells": [
  {
   "cell_type": "markdown",
   "id": "7bb0484f",
   "metadata": {},
   "source": [
    "# Generators "
   ]
  },
  {
   "cell_type": "code",
   "execution_count": null,
   "id": "9af3db8a",
   "metadata": {},
   "outputs": [],
   "source": [
    "\n",
    "#range() is a generator #which dosen't hold memory\n",
    "#creating own generator \n",
    "\n",
    "def generator_fun(num):\n",
    "    for i in range(num):\n",
    "        yield i*2   #pauses the function  and comes back to it when next is called #yield keyword makes the function generator\n",
    "g=generator_fun(6)\n",
    "next(g)\n",
    "next(g)\n",
    "print(next(g))\n",
    "\n",
    "for item in generator_fun(20):\n",
    "    print(item)\n"
   ]
  },
  {
   "cell_type": "code",
   "execution_count": 17,
   "id": "54ab6fce",
   "metadata": {},
   "outputs": [
    {
     "name": "stdout",
     "output_type": "stream",
     "text": [
      "1\n",
      "total time taken 1.338684320449829 s\n",
      "2\n",
      "total time taken 1.5948293209075928 s\n"
     ]
    }
   ],
   "source": [
    "@performance\n",
    "def long_time():\n",
    "    print(1)\n",
    "    for i in range(10000000):\n",
    "        i*5\n",
    "@performance\n",
    "def long_time2():\n",
    "    print(2)\n",
    "    for i in list(range(10000000)):\n",
    "        i*5\n",
    "\n",
    "\n",
    "long_time()\n",
    "\n",
    "long_time2()\n",
    "# Here we can conclude that range as a decorator is faster"
   ]
  },
  {
   "cell_type": "code",
   "execution_count": null,
   "id": "42303b41",
   "metadata": {},
   "outputs": [],
   "source": []
  },
  {
   "cell_type": "code",
   "execution_count": 1,
   "id": "d66d98ce",
   "metadata": {},
   "outputs": [],
   "source": [
    "\n",
    "from time import time\n",
    "\n",
    "#make a program to calculate the perforamce of any function\n",
    "def performance(func):\n",
    "    def wrapper_func(*args,**kwargs):  #wrote this *args and **kwargs so that any function can use this \n",
    "        t1=time()\n",
    "        res=func(*args,**kwargs)\n",
    "        t2=time()\n",
    "        print(f'total time taken {t2-t1} s')\n",
    "        return res\n",
    "    return wrapper_func\n"
   ]
  },
  {
   "cell_type": "code",
   "execution_count": null,
   "id": "67d16b0e",
   "metadata": {},
   "outputs": [],
   "source": []
  },
  {
   "cell_type": "code",
   "execution_count": null,
   "id": "2c81f547",
   "metadata": {},
   "outputs": [],
   "source": []
  },
  {
   "cell_type": "code",
   "execution_count": null,
   "id": "e7663fb7",
   "metadata": {},
   "outputs": [],
   "source": []
  }
 ],
 "metadata": {
  "kernelspec": {
   "display_name": "Python 3 (ipykernel)",
   "language": "python",
   "name": "python3"
  },
  "language_info": {
   "codemirror_mode": {
    "name": "ipython",
    "version": 3
   },
   "file_extension": ".py",
   "mimetype": "text/x-python",
   "name": "python",
   "nbconvert_exporter": "python",
   "pygments_lexer": "ipython3",
   "version": "3.9.7"
  }
 },
 "nbformat": 4,
 "nbformat_minor": 5
}
