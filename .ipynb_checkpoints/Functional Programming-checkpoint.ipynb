{
 "cells": [
  {
   "cell_type": "markdown",
   "id": "c1911f76",
   "metadata": {},
   "source": [
    "# Functional Programming"
   ]
  },
  {
   "cell_type": "code",
   "execution_count": 1,
   "id": "30f8f00b",
   "metadata": {},
   "outputs": [
    {
     "name": "stdout",
     "output_type": "stream",
     "text": [
      "[2, 'ajayajay']\n",
      "[1, 3, 7, 9]\n"
     ]
    },
    {
     "data": {
      "text/plain": [
       "[(1, 'ajay', 21), (2, 'rahul', 22), (3, 'vicky', 23)]"
      ]
     },
     "execution_count": 1,
     "metadata": {},
     "output_type": "execute_result"
    }
   ],
   "source": [
    "#functional Programming\n",
    "# map() filter() zip() reduce()\n",
    "#a Pure function is a function that dosen't effect outside world\n",
    "\n",
    "\n",
    "#map(function,iterable) -> we always get same number of output which we provided as iterble\n",
    "\n",
    "def mul(item):  \n",
    "    return 2*item\n",
    "a=[1,\"ajay\"]\n",
    "\n",
    "print(list(map(mul,a)))   #a not changed\n",
    "\n",
    "\n",
    "#filter(function,iterable)\n",
    "\n",
    "def only_odd(item):\n",
    "    return item % 2 != 0\n",
    "l=[1,4,6,3,8,7,9,0]\n",
    "print(list(filter(only_odd,l)))\n",
    "\n",
    "\n",
    "#zip(iter1,iter2,iter3......) -> return the list of tuple for same index \n",
    "id=(1,2,3)\n",
    "name=[\"ajay\",\"rahul\",\"vicky\"]\n",
    "age=(21,22,23)\n",
    "list(zip(id,name,age))\n",
    "\n",
    "#reduce()"
   ]
  },
  {
   "cell_type": "code",
   "execution_count": null,
   "id": "1c893d4b",
   "metadata": {},
   "outputs": [],
   "source": []
  },
  {
   "cell_type": "markdown",
   "id": "905a4169",
   "metadata": {},
   "source": [
    "## Lambda Expression"
   ]
  },
  {
   "cell_type": "code",
   "execution_count": null,
   "id": "67939778",
   "metadata": {},
   "outputs": [],
   "source": [
    "#lambda expression-> one line anonymous function\n",
    "# lambda param:action(param)"
   ]
  },
  {
   "cell_type": "code",
   "execution_count": 2,
   "id": "8b053f02",
   "metadata": {},
   "outputs": [
    {
     "data": {
      "text/plain": [
       "9"
      ]
     },
     "execution_count": 2,
     "metadata": {},
     "output_type": "execute_result"
    }
   ],
   "source": [
    "lam=lambda x:x*2\n",
    "lam(5)\n",
    "add=lambda a,b:a+b\n",
    "add(2,6)\n",
    "\n",
    "\n",
    "list( map( lambda x:x*2, [1,2,3]))\n",
    "\n",
    "list( filter( lambda x:x%2!=0, [1,2,3]))\n",
    "\n",
    "from functools import reduce\n",
    "my_list=[1,2,3,4,5]\n",
    "x=reduce(lambda acc,item : acc+item, my_list)  #will give sum of list\n",
    "\n",
    "\n",
    "\n",
    "\n",
    "l1=[\"d\",\"c\",\"abcd\",\"a\",\"aa\",\"ab\",\"bc\"]\n",
    "l1.sort(key=lambda x:(len(x),x))  # sorting the list based on length and then alphabetically\n",
    "l1\n",
    "\n",
    "lst = [('candy','30','100'), ('apple','10','200'), ('baby','20','300')]\n",
    "lst.sort(key=lambda x:x[1])  #sorting the list of list or tuple based on their 2nd element\n",
    "lst\n",
    "\n",
    "\n",
    "max(lst,key=lambda x:x[2]) #getting the max element(list or tuple) based on their 2nd element from list of list or tuple\n",
    "\n",
    "\n",
    "# we can also return a lambda function from a function\n",
    "def multiplyBy (n):\n",
    "    return lambda x:x*n\n",
    "double=multiplyBy(2)  # now it's a lambda expression\n",
    "triple=multiplyBy(3)\n",
    "double(3)\n",
    "triple(3)"
   ]
  },
  {
   "cell_type": "code",
   "execution_count": null,
   "id": "c54febae",
   "metadata": {},
   "outputs": [],
   "source": []
  },
  {
   "cell_type": "markdown",
   "id": "48856b83",
   "metadata": {},
   "source": [
    "## List,set,dictionary comprehension"
   ]
  },
  {
   "cell_type": "code",
   "execution_count": 3,
   "id": "ce4a6347",
   "metadata": {},
   "outputs": [
    {
     "data": {
      "text/plain": [
       "{'a', 'd', 'f'}"
      ]
     },
     "execution_count": 3,
     "metadata": {},
     "output_type": "execute_result"
    }
   ],
   "source": [
    "#List Comprehension\n",
    "\n",
    "# new_list = [<param or action on param> for param in iterable]\n",
    "char_list=[char for char in \"hello\"]  #creating list of character from the string\n",
    "char_list\n",
    "my_list1=[num*2 for num in range(1,11)] #creating table of 2\n",
    "my_list1\n",
    "my_list2=[num**2 for num in range(1,11) if num %2 ==0 ] #square of even numbers\n",
    "my_list2\n",
    "\n",
    "#Set Comprehension same as List Comprehension\n",
    "my_set={int(num/3) for num in range(0,20,2)}\n",
    "my_set\n",
    "\n",
    "#Dictionary Comprehension\n",
    "dct={'a':1,'b':2,'c':3}\n",
    "my_dct={k*2:v*2 for k,v in dct.items()} #multiplying the values by 2\n",
    "my_dct\n",
    "\n",
    "new_dct={num:num**2 for num in range(1,11)} #creating a dictionary of squares\n",
    "new_dct\n",
    "\n",
    "\n",
    "\n",
    "\n",
    "#question\n",
    "# Q-> find duplicate characters in string\n",
    "s=\"aabcddefffgh\"  #res-> a,d,f\n",
    "res={x for x in s if s.count(x)>1}\n",
    "res"
   ]
  },
  {
   "cell_type": "code",
   "execution_count": null,
   "id": "77254903",
   "metadata": {},
   "outputs": [],
   "source": []
  }
 ],
 "metadata": {
  "kernelspec": {
   "display_name": "Python 3 (ipykernel)",
   "language": "python",
   "name": "python3"
  },
  "language_info": {
   "codemirror_mode": {
    "name": "ipython",
    "version": 3
   },
   "file_extension": ".py",
   "mimetype": "text/x-python",
   "name": "python",
   "nbconvert_exporter": "python",
   "pygments_lexer": "ipython3",
   "version": "3.9.7"
  }
 },
 "nbformat": 4,
 "nbformat_minor": 5
}
