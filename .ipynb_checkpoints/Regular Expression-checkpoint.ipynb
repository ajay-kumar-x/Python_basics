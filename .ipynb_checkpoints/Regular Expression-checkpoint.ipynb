{
 "cells": [
  {
   "cell_type": "markdown",
   "id": "0a52493b",
   "metadata": {},
   "source": [
    "# Regular Expression"
   ]
  },
  {
   "cell_type": "code",
   "execution_count": 2,
   "id": "c197fe6f",
   "metadata": {},
   "outputs": [],
   "source": [
    "import re"
   ]
  },
  {
   "cell_type": "code",
   "execution_count": 3,
   "id": "a9059440",
   "metadata": {},
   "outputs": [
    {
     "name": "stdout",
     "output_type": "stream",
     "text": [
      "<re.Match object; span=(0, 4), match='Name'>\n"
     ]
    }
   ],
   "source": [
    "pattern=re.compile('Name')\n",
    "string=\"Name is Ajay what's your Name?\"\n",
    "\n",
    "a=pattern.search(string) #returns the match object\n",
    "#b=pattern.search(string).span() #returns the tuple of indexes where the match found, returns error when no match\n",
    "c=pattern.findall(string) #returns the list of matches\n",
    "d=pattern.match(string)\n",
    "print(d)"
   ]
  },
  {
   "cell_type": "code",
   "execution_count": null,
   "id": "5fa99f42",
   "metadata": {},
   "outputs": [],
   "source": [
    "#\n",
    "# ([a-zA-Z]).([a])     two group -> any character from a-z or A-Z + any character + a"
   ]
  },
  {
   "cell_type": "code",
   "execution_count": 28,
   "id": "e6be6798",
   "metadata": {},
   "outputs": [
    {
     "data": {
      "text/plain": [
       "(6, 9)"
      ]
     },
     "execution_count": 28,
     "metadata": {},
     "output_type": "execute_result"
    }
   ],
   "source": [
    "pattern=re.compile(r\"([a-zA-Z]).([a])\") # r means raw string that ask python interpreter to ignore everythig in the string like \\n, \\\\ etc\n",
    "string=\"my name ajay\"\n",
    "c=pattern.search(string)\n",
    "c   #<re.Match object; span=(6, 9), match='e a'>\n",
    "c.group() #'e a'\n",
    "c.span() #(6, 9)\n"
   ]
  },
  {
   "cell_type": "code",
   "execution_count": null,
   "id": "35316984",
   "metadata": {},
   "outputs": [],
   "source": [
    "'''\n",
    "\n",
    "\\d -> digit 0-9\n",
    "\n",
    "\\. -> wildcard character   can match any single character\n",
    "\n",
    "[abc]     will only match a single a, b, or c letter and nothing else.\n",
    "\n",
    "[^abc]     will match any single character except for the letters a, b, or c.\n",
    "\n",
    "[0-6]      will only match any single digit character from zero to six\n",
    "\n",
    "\n",
    "[^n-p]      will only match any single character except for letters n to p\n",
    "            Note-> ^ is inside\n",
    "\n",
    "\\w         alphanumeric, which is equivalent to the character range [A-Za-z0-9_] and often used to match characters in English text.\n",
    "\n",
    "a{3} will match the a character exactly three times\n",
    "\n",
    "a{1,3} will match the a character no more than 3 times, but no less than once\n",
    "\n",
    "[wxy]{5}  five characters, each of which can be a w, x, or y\n",
    "\n",
    ".{2,6} (any character between two and six times)\n",
    "\n",
    "\n",
    "\n",
    "'''"
   ]
  },
  {
   "cell_type": "code",
   "execution_count": null,
   "id": "868e1bd4",
   "metadata": {},
   "outputs": [],
   "source": [
    "'''\n",
    "Kleene Star and the Kleene Plus\n",
    "*  zero or more\n",
    "+  one or more\n",
    "\n",
    "\n",
    "\n",
    "\\d*  match any number of digits\n",
    "\\d+  match at least one or more digit\n",
    "\n",
    "a+      (one or more a's)\n",
    "[abc]+  (one or more of any a, b, or c character)\n",
    ".*       (zero or more of any character).\n",
    "\n",
    "\n",
    "\n",
    "'''\n"
   ]
  },
  {
   "cell_type": "code",
   "execution_count": null,
   "id": "12cc0266",
   "metadata": {},
   "outputs": [],
   "source": [
    "'''\n",
    "?    ->  Optional character\n",
    "\n",
    "ab?c   will match either the strings \"abc\" or \"ac\"\n",
    "\n",
    "question mark is a special character and you will have to escape it using a slash \\?\n",
    "\n",
    "\n",
    "WhiteSpace\n",
    "\n",
    "\\s will match any of the specific whitespaces\n",
    "\n",
    "'''"
   ]
  },
  {
   "cell_type": "code",
   "execution_count": null,
   "id": "26843869",
   "metadata": {},
   "outputs": [],
   "source": [
    "'''\n",
    "Starting and ending\n",
    "^ (hat) and $ (dollar)   pattern that describes both the start and the end of the line \n",
    "\n",
    "^success to match only a line that begins with the word \"success\"\n",
    "\n",
    ".pdf$ represent the end of string with name ending .pdf\n",
    "\n",
    "'''"
   ]
  },
  {
   "cell_type": "code",
   "execution_count": null,
   "id": "5ebdb6b2",
   "metadata": {},
   "outputs": [],
   "source": [
    "'''\n",
    "Match Groups\n",
    "extract information for further processing\n",
    "This is done by defining groups of characters and capturing them using the special parentheses ( and ) metacharacters.\n",
    "\n",
    "(^IMG\\d+)\\.(img$)   -> dividing the name in two groups\n",
    "\n",
    "\n",
    "Nested groups\n",
    "([a-zA-Z]{3}\\s(\\d{4}))    or   (\\w+\\s(\\d{4}))\n",
    "\n",
    "Jan 1987\tgr1->(Jan 1987) gr2-> (1987)\n",
    "\n",
    "\n",
    "\n",
    "'''"
   ]
  },
  {
   "cell_type": "code",
   "execution_count": null,
   "id": "dd55fe47",
   "metadata": {},
   "outputs": [],
   "source": [
    "'''\n",
    "| -> OR\n",
    "\n",
    "I love cats|dogs\n",
    "'''"
   ]
  },
  {
   "cell_type": "code",
   "execution_count": null,
   "id": "50a8543d",
   "metadata": {},
   "outputs": [],
   "source": [
    "'''\n",
    "Extra\n",
    "\n",
    "\\D  -> non-digit\n",
    "\n",
    "\\S  ->any non-whitespace\n",
    "\n",
    "\\W  ->any non-alphanumeric\n",
    "\n",
    "'''"
   ]
  },
  {
   "cell_type": "code",
   "execution_count": null,
   "id": "af9fc9bc",
   "metadata": {},
   "outputs": [],
   "source": [
    "#Examples\n",
    "'''\n",
    "\n",
    "r\"[A-Z]{5}\\d{4}[A-Z]\"   -> pan card also-> r\"[A-Z]{5}[0-9]{4}[A-Z]\"\n",
    "\n",
    "\n",
    "a{2,4}b*c+  -> 2-4 a's + zero or more b's + one or more c's => aabbbbcccc, aac, aabbbbbc\n",
    "\n",
    "-?[\\d,]+[.]?[\\de]*\\d$    -> decimal numbers => -12, 3.14, 1.9e0, 123,432.00\n",
    "\n",
    "(\\w+)\\.(png|jpg|gif)$    -> groups the filename and extension for image files\n",
    "\n",
    "'''"
   ]
  },
  {
   "cell_type": "code",
   "execution_count": null,
   "id": "4660af85",
   "metadata": {},
   "outputs": [],
   "source": []
  }
 ],
 "metadata": {
  "kernelspec": {
   "display_name": "Python 3 (ipykernel)",
   "language": "python",
   "name": "python3"
  },
  "language_info": {
   "codemirror_mode": {
    "name": "ipython",
    "version": 3
   },
   "file_extension": ".py",
   "mimetype": "text/x-python",
   "name": "python",
   "nbconvert_exporter": "python",
   "pygments_lexer": "ipython3",
   "version": "3.9.7"
  }
 },
 "nbformat": 4,
 "nbformat_minor": 5
}
