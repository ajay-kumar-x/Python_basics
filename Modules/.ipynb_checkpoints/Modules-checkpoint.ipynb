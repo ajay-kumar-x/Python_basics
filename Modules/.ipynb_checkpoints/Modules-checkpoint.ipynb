{
 "cells": [
  {
   "cell_type": "code",
   "execution_count": 2,
   "id": "dd0b5c32",
   "metadata": {},
   "outputs": [
    {
     "data": {
      "text/plain": [
       "'__main__'"
      ]
     },
     "execution_count": 2,
     "metadata": {},
     "output_type": "execute_result"
    }
   ],
   "source": [
    "#always the name of the file we run in python is '__main__'\n",
    "__name__"
   ]
  },
  {
   "cell_type": "code",
   "execution_count": 19,
   "id": "f3195084",
   "metadata": {},
   "outputs": [
    {
     "name": "stdout",
     "output_type": "stream",
     "text": [
      "main running file\n"
     ]
    }
   ],
   "source": [
    "if __name__=='__main__':\n",
    "    print(\"main running file\")\n",
    "    \n",
    "# if this line of code is there in any .py files then codes under that block will run only if we run that file, not importing"
   ]
  },
  {
   "cell_type": "code",
   "execution_count": 43,
   "id": "12d0ceae",
   "metadata": {},
   "outputs": [
    {
     "data": {
      "text/plain": [
       "['__builtins__',\n",
       " '__cached__',\n",
       " '__doc__',\n",
       " '__file__',\n",
       " '__loader__',\n",
       " '__name__',\n",
       " '__package__',\n",
       " '__spec__']"
      ]
     },
     "execution_count": 43,
     "metadata": {},
     "output_type": "execute_result"
    }
   ],
   "source": [
    "#we can import .py files only\n",
    "import nameTest\n",
    "\n",
    "dir(nameTest)"
   ]
  },
  {
   "cell_type": "code",
   "execution_count": 111,
   "id": "4fc6eb45",
   "metadata": {},
   "outputs": [
    {
     "data": {
      "text/plain": [
       "[3, 1, 4, 2, 5]"
      ]
     },
     "execution_count": 111,
     "metadata": {},
     "output_type": "execute_result"
    }
   ],
   "source": [
    "# random module\n",
    "import random as r\n",
    "#from random import shuffle as sf\n",
    "r.random()   # 0 to 1\n",
    "r.randint(1,10) #inclusive\n",
    "my_list=[1,2,3,4,5]\n",
    "r.shuffle(my_list)  #shuffles the list \n",
    "my_list"
   ]
  },
  {
   "cell_type": "code",
   "execution_count": null,
   "id": "4d5c20e2",
   "metadata": {},
   "outputs": [],
   "source": [
    "# sys module\n",
    "import sys"
   ]
  },
  {
   "cell_type": "code",
   "execution_count": 115,
   "id": "068f782b",
   "metadata": {},
   "outputs": [
    {
     "name": "stdout",
     "output_type": "stream",
     "text": [
      "Requirement already satisfied: pyjokes in c:\\users\\900974\\appdata\\local\\programs\\python\\python39\\lib\\site-packages (0.6.0)Note: you may need to restart the kernel to use updated packages.\n",
      "\n"
     ]
    },
    {
     "name": "stderr",
     "output_type": "stream",
     "text": [
      "WARNING: You are using pip version 21.2.3; however, version 22.1.2 is available.\n",
      "You should consider upgrading via the 'C:\\Users\\900974\\AppData\\Local\\Programs\\Python\\Python39\\python.exe -m pip install --upgrade pip' command.\n"
     ]
    }
   ],
   "source": [
    "#from pypi we can get many packages available online\n",
    "pip install pyjokes"
   ]
  },
  {
   "cell_type": "code",
   "execution_count": 117,
   "id": "3855b601",
   "metadata": {},
   "outputs": [],
   "source": [
    "import pyjokes as pj"
   ]
  },
  {
   "cell_type": "code",
   "execution_count": 143,
   "id": "69d0053b",
   "metadata": {},
   "outputs": [
    {
     "name": "stdout",
     "output_type": "stream",
     "text": [
      "Waiter: He's choking! Is anyone a doctor? Programmer: I'm a Vim user.\n"
     ]
    }
   ],
   "source": [
    "print(pj.get_joke())"
   ]
  },
  {
   "cell_type": "code",
   "execution_count": 144,
   "id": "d8fcb451",
   "metadata": {},
   "outputs": [],
   "source": [
    "from collections import Counter"
   ]
  },
  {
   "cell_type": "code",
   "execution_count": 153,
   "id": "945c0213",
   "metadata": {},
   "outputs": [
    {
     "name": "stdout",
     "output_type": "stream",
     "text": [
      "Counter({7: 3, 5: 2, 1: 1, 2: 1, 3: 1, 4: 1, 6: 1})\n",
      "Counter({' ': 3, 'a': 3, 'm': 2, 'y': 2, 'n': 1, 'e': 1, 'i': 1, 's': 1, 'j': 1})\n",
      "Counter({'hello': 2, 'ajay': 1})\n"
     ]
    },
    {
     "data": {
      "text/plain": [
       "OrderedDict([('a', 1), ('b', 2)])"
      ]
     },
     "execution_count": 153,
     "metadata": {},
     "output_type": "execute_result"
    }
   ],
   "source": [
    "#Counter\n",
    "l1=[1,2,3,4,5,5,6,7,7,7]\n",
    "print(Counter(l1)) #Counter object -> dictionary of counts of iterable\n",
    "l2=\"my name is ajay\"\n",
    "print(Counter(l2))\n",
    "l3=\"hello ajay hello\".split()\n",
    "print(Counter(l3))\n",
    "\n"
   ]
  }
 ],
 "metadata": {
  "kernelspec": {
   "display_name": "Python 3 (ipykernel)",
   "language": "python",
   "name": "python3"
  },
  "language_info": {
   "codemirror_mode": {
    "name": "ipython",
    "version": 3
   },
   "file_extension": ".py",
   "mimetype": "text/x-python",
   "name": "python",
   "nbconvert_exporter": "python",
   "pygments_lexer": "ipython3",
   "version": "3.9.7"
  }
 },
 "nbformat": 4,
 "nbformat_minor": 5
}
