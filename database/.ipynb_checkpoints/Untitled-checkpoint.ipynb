{
 "cells": [
  {
   "cell_type": "code",
   "execution_count": 1,
   "id": "fea36ff7",
   "metadata": {},
   "outputs": [
    {
     "name": "stdout",
     "output_type": "stream",
     "text": [
      "Opened database successfully.\n"
     ]
    }
   ],
   "source": [
    "import sqlite3\n",
    "\n",
    "conn = sqlite3.connect('RegisteredUser',check_same_thread=False)\n",
    "\n",
    "print(\"Opened database successfully.\")"
   ]
  },
  {
   "cell_type": "code",
   "execution_count": 3,
   "id": "c31ea22e",
   "metadata": {},
   "outputs": [
    {
     "name": "stdout",
     "output_type": "stream",
     "text": [
      "Table created successfully\n"
     ]
    }
   ],
   "source": [
    "conn.execute('''CREATE TABLE IF NOT EXISTS USERS\n",
    "         (UID TEXT PRIMARY KEY     NOT NULL,\n",
    "         EMAIl TEXT NOT NULL,\n",
    "         PASSWORD           TEXT    NOT NULL);\n",
    "         ''')\n",
    "print(\"Table created successfully\")"
   ]
  },
  {
   "cell_type": "code",
   "execution_count": 4,
   "id": "acd8c5ae",
   "metadata": {},
   "outputs": [
    {
     "name": "stdout",
     "output_type": "stream",
     "text": [
      "value should be unique\n"
     ]
    }
   ],
   "source": [
    "try:\n",
    "    conn.execute(\"INSERT INTO USERS (UID,EMAIL,PASSWORD) \\\n",
    "      VALUES ('ajay','ajay@gmail.com','xyz' )\");\n",
    "    conn.commit()\n",
    "    print(\"Records created successfully\")\n",
    "except:\n",
    "    print(\"value should be unique\")\n",
    "\n"
   ]
  },
  {
   "cell_type": "code",
   "execution_count": null,
   "id": "69013362",
   "metadata": {},
   "outputs": [],
   "source": []
  },
  {
   "cell_type": "code",
   "execution_count": 18,
   "id": "6d210281",
   "metadata": {},
   "outputs": [
    {
     "name": "stdout",
     "output_type": "stream",
     "text": [
      "value should be unique\n"
     ]
    }
   ],
   "source": [
    "uid=\"rahul\"#input(\"Enter Username: \")\n",
    "email=\"rahul@gmail.com\"\n",
    "pas=\"secret\"#input(\"Enter Password: \")\n",
    "\n",
    "try:\n",
    "    conn.execute(f\"INSERT INTO USERS (UID,EMAIL,PASSWORD) \\\n",
    "      VALUES ('{uid}','{email}','{pas}' )\");\n",
    "    conn.commit()\n",
    "    print(\"Records created successfully\")\n",
    "except:\n",
    "    print(\"value should be unique\")\n",
    "\n"
   ]
  },
  {
   "cell_type": "code",
   "execution_count": 8,
   "id": "a5aa3ccc",
   "metadata": {},
   "outputs": [
    {
     "name": "stdout",
     "output_type": "stream",
     "text": [
      "userid =  ajay\n",
      "email =  ajay@gmail.com\n",
      "password =  xyz \n",
      "\n",
      "userid =  rahul\n",
      "email =  rahul@gmail.com\n",
      "password =  secret \n",
      "\n"
     ]
    }
   ],
   "source": [
    "cursor = conn.execute(\"SELECT UID,EMAIL,PASSWORD from USERS\")\n",
    "for row in cursor:\n",
    "    print(\"userid = \", row[0])\n",
    "    print(\"email = \", row[1])\n",
    "    print(\"password = \", row[2],\"\\n\")\n"
   ]
  },
  {
   "cell_type": "code",
   "execution_count": 44,
   "id": "5df77332",
   "metadata": {},
   "outputs": [],
   "source": [
    "uid=\"ajay\"\n",
    "pas=\"xyz\"\n",
    "def checkUserCredential(uid,pas):\n",
    "    for row in conn.execute(f\"SELECT UID,PASSWORD from USERS where UID=?\",(uid,)):\n",
    "        if row[0]==uid and row[1]==pas:\n",
    "            print(\"userid = \", row[0])\n",
    "            print(\"password = \", row[1],\"\\n\")\n",
    "            return True\n",
    "        return False\n",
    "        "
   ]
  },
  {
   "cell_type": "code",
   "execution_count": 47,
   "id": "27c4a815",
   "metadata": {},
   "outputs": [
    {
     "data": {
      "text/plain": [
       "False"
      ]
     },
     "execution_count": 47,
     "metadata": {},
     "output_type": "execute_result"
    }
   ],
   "source": [
    "checkUserCredential(\"ajay\",\"abc\")"
   ]
  },
  {
   "cell_type": "code",
   "execution_count": 16,
   "id": "537acf60",
   "metadata": {},
   "outputs": [
    {
     "data": {
      "text/plain": [
       "2"
      ]
     },
     "execution_count": 16,
     "metadata": {},
     "output_type": "execute_result"
    }
   ],
   "source": [
    "#get total number of rows\n",
    "conn.execute(\"select count(*) from USERS\").fetchall()[-1][-1]"
   ]
  },
  {
   "cell_type": "code",
   "execution_count": null,
   "id": "1cadb651",
   "metadata": {},
   "outputs": [],
   "source": []
  },
  {
   "cell_type": "code",
   "execution_count": 59,
   "id": "18bf021b",
   "metadata": {
    "scrolled": true
   },
   "outputs": [],
   "source": [
    "uid=\"ajay\"\n",
    "\n",
    "cursor=conn.execute(\"select UID from USERS where UID=?\", (uid,))\n",
    "# print(len( cursor.fetchall())) #it will execute and make the cursor with 0 row\n",
    "# for row in cursor:\n",
    "#     print(\"userid = \", row[0])\n"
   ]
  },
  {
   "cell_type": "code",
   "execution_count": 67,
   "id": "0a2d7860",
   "metadata": {},
   "outputs": [
    {
     "ename": "AttributeError",
     "evalue": "'sqlite3.Cursor' object has no attribute 'lastrow'",
     "output_type": "error",
     "traceback": [
      "\u001b[1;31m---------------------------------------------------------------------------\u001b[0m",
      "\u001b[1;31mAttributeError\u001b[0m                            Traceback (most recent call last)",
      "Input \u001b[1;32mIn [67]\u001b[0m, in \u001b[0;36m<cell line: 1>\u001b[1;34m()\u001b[0m\n\u001b[1;32m----> 1\u001b[0m \u001b[43mcursor\u001b[49m\u001b[38;5;241;43m.\u001b[39;49m\u001b[43mlastrow\u001b[49m\n",
      "\u001b[1;31mAttributeError\u001b[0m: 'sqlite3.Cursor' object has no attribute 'lastrow'"
     ]
    }
   ],
   "source": [
    "cursor.lastrow"
   ]
  },
  {
   "cell_type": "code",
   "execution_count": 53,
   "id": "69d5ee81",
   "metadata": {},
   "outputs": [
    {
     "data": {
      "text/plain": [
       "'a'"
      ]
     },
     "execution_count": 53,
     "metadata": {},
     "output_type": "execute_result"
    }
   ],
   "source": [
    "number_of_rows[0]"
   ]
  },
  {
   "cell_type": "code",
   "execution_count": null,
   "id": "967642d4",
   "metadata": {},
   "outputs": [],
   "source": []
  },
  {
   "cell_type": "code",
   "execution_count": 18,
   "id": "23bfacdd",
   "metadata": {},
   "outputs": [
    {
     "name": "stdout",
     "output_type": "stream",
     "text": [
      "Table created successfully\n"
     ]
    }
   ],
   "source": [
    "conn.execute('''CREATE TABLE IF NOT EXISTS TRAPED\n",
    "         (OWNER TEXT     NOT NULL,\n",
    "         App    TEXT NOT NULL,\n",
    "         UID  TEXT NOT NULL,\n",
    "         PASSWORD    TEXT    NOT NULL);\n",
    "         ''')\n",
    "print(\"Table created successfully\")\n",
    "\n"
   ]
  },
  {
   "cell_type": "code",
   "execution_count": 57,
   "id": "99247c18",
   "metadata": {},
   "outputs": [
    {
     "ename": "OperationalError",
     "evalue": "no such table: TRAPED",
     "output_type": "error",
     "traceback": [
      "\u001b[1;31m---------------------------------------------------------------------------\u001b[0m",
      "\u001b[1;31mOperationalError\u001b[0m                          Traceback (most recent call last)",
      "Input \u001b[1;32mIn [57]\u001b[0m, in \u001b[0;36m<cell line: 6>\u001b[1;34m()\u001b[0m\n\u001b[0;32m      3\u001b[0m uid\u001b[38;5;241m=\u001b[39m\u001b[38;5;124m\"\u001b[39m\u001b[38;5;124mtestid\u001b[39m\u001b[38;5;124m\"\u001b[39m\u001b[38;5;66;03m#input(\"Enter Username: \")\u001b[39;00m\n\u001b[0;32m      4\u001b[0m pas\u001b[38;5;241m=\u001b[39m\u001b[38;5;124m\"\u001b[39m\u001b[38;5;124mxyzext\u001b[39m\u001b[38;5;124m\"\u001b[39m\u001b[38;5;66;03m#input(\"Enter Password: \")\u001b[39;00m\n\u001b[1;32m----> 6\u001b[0m \u001b[43mconn\u001b[49m\u001b[38;5;241;43m.\u001b[39;49m\u001b[43mexecute\u001b[49m\u001b[43m(\u001b[49m\u001b[38;5;124;43mf\u001b[39;49m\u001b[38;5;124;43m\"\u001b[39;49m\u001b[38;5;124;43mINSERT INTO TRAPED (OWNER,APP,UID,PASSWORD) \u001b[39;49m\u001b[38;5;130;43;01m\\\u001b[39;49;00m\n\u001b[0;32m      7\u001b[0m \u001b[38;5;124;43m      VALUES (\u001b[39;49m\u001b[38;5;124;43m'\u001b[39;49m\u001b[38;5;132;43;01m{\u001b[39;49;00m\u001b[43mowner\u001b[49m\u001b[38;5;132;43;01m}\u001b[39;49;00m\u001b[38;5;124;43m'\u001b[39;49m\u001b[38;5;124;43m,\u001b[39;49m\u001b[38;5;124;43m'\u001b[39;49m\u001b[38;5;132;43;01m{\u001b[39;49;00m\u001b[43mapp\u001b[49m\u001b[38;5;132;43;01m}\u001b[39;49;00m\u001b[38;5;124;43m'\u001b[39;49m\u001b[38;5;124;43m,\u001b[39;49m\u001b[38;5;124;43m'\u001b[39;49m\u001b[38;5;132;43;01m{\u001b[39;49;00m\u001b[43muid\u001b[49m\u001b[38;5;132;43;01m}\u001b[39;49;00m\u001b[38;5;124;43m'\u001b[39;49m\u001b[38;5;124;43m,\u001b[39;49m\u001b[38;5;124;43m'\u001b[39;49m\u001b[38;5;132;43;01m{\u001b[39;49;00m\u001b[43mpas\u001b[49m\u001b[38;5;132;43;01m}\u001b[39;49;00m\u001b[38;5;124;43m'\u001b[39;49m\u001b[38;5;124;43m )\u001b[39;49m\u001b[38;5;124;43m\"\u001b[39;49m\u001b[43m)\u001b[49m\n\u001b[0;32m      8\u001b[0m conn\u001b[38;5;241m.\u001b[39mcommit()\n\u001b[0;32m      9\u001b[0m \u001b[38;5;28mprint\u001b[39m(\u001b[38;5;124m\"\u001b[39m\u001b[38;5;124mRecords created successfully\u001b[39m\u001b[38;5;124m\"\u001b[39m)\n",
      "\u001b[1;31mOperationalError\u001b[0m: no such table: TRAPED"
     ]
    }
   ],
   "source": [
    "owner=\"ajay\"\n",
    "app=\"instagram\"\n",
    "uid=\"testid\"#input(\"Enter Username: \")\n",
    "pas=\"xyzext\"#input(\"Enter Password: \")\n",
    "\n",
    "conn.execute(f\"INSERT INTO TRAPED (OWNER,APP,UID,PASSWORD) \\\n",
    "      VALUES ('{owner}','{app}','{uid}','{pas}' )\")\n",
    "conn.commit()\n",
    "print(\"Records created successfully\")\n",
    "\n"
   ]
  },
  {
   "cell_type": "code",
   "execution_count": 32,
   "id": "015cfdbb",
   "metadata": {},
   "outputs": [
    {
     "name": "stdout",
     "output_type": "stream",
     "text": [
      "app =  ajay\n",
      "owner =  instagram\n",
      "userid =  testid\n",
      "password =  xyzext \n",
      "\n"
     ]
    }
   ],
   "source": [
    "cursor = conn.execute(\"SELECT OWNER,APP,UID,PASSWORD from TRAPED\")\n",
    "for row in cursor:\n",
    "    print(\"app = \",row[0])\n",
    "    print(\"owner = \",row[1])\n",
    "    print(\"userid = \", row[2])\n",
    "    print(\"password = \", row[3],\"\\n\")"
   ]
  },
  {
   "cell_type": "code",
   "execution_count": 21,
   "id": "cda33ad9",
   "metadata": {},
   "outputs": [],
   "source": [
    "\n",
    "conn.commit()"
   ]
  },
  {
   "cell_type": "code",
   "execution_count": 40,
   "id": "89c5472a",
   "metadata": {},
   "outputs": [
    {
     "data": {
      "text/plain": [
       "<sqlite3.Cursor at 0x1b37d5d3b20>"
      ]
     },
     "execution_count": 40,
     "metadata": {},
     "output_type": "execute_result"
    }
   ],
   "source": [
    "conn.execute(\"drop table USERS\")\n",
    "conn.execute(\"drop table TRAPED\")"
   ]
  },
  {
   "cell_type": "code",
   "execution_count": 327,
   "id": "d127f8b1",
   "metadata": {},
   "outputs": [],
   "source": [
    "conn.close()"
   ]
  },
  {
   "cell_type": "code",
   "execution_count": 29,
   "id": "0f8adb1d",
   "metadata": {},
   "outputs": [],
   "source": [
    "temp=\"\""
   ]
  },
  {
   "cell_type": "code",
   "execution_count": 30,
   "id": "46195c26",
   "metadata": {},
   "outputs": [],
   "source": [
    "temp=conn"
   ]
  },
  {
   "cell_type": "code",
   "execution_count": 31,
   "id": "b977720c",
   "metadata": {},
   "outputs": [
    {
     "data": {
      "text/plain": [
       "sqlite3.Connection"
      ]
     },
     "execution_count": 31,
     "metadata": {},
     "output_type": "execute_result"
    }
   ],
   "source": [
    "type(temp)"
   ]
  },
  {
   "cell_type": "code",
   "execution_count": null,
   "id": "f79eacbb",
   "metadata": {},
   "outputs": [],
   "source": []
  },
  {
   "cell_type": "code",
   "execution_count": null,
   "id": "6f0a0446",
   "metadata": {},
   "outputs": [],
   "source": []
  },
  {
   "cell_type": "code",
   "execution_count": 9,
   "id": "0f07effe",
   "metadata": {},
   "outputs": [
    {
     "name": "stdout",
     "output_type": "stream",
     "text": [
      "Table created successfully\n"
     ]
    },
    {
     "ename": "IntegrityError",
     "evalue": "UNIQUE constraint failed: TEST.UID",
     "output_type": "error",
     "traceback": [
      "\u001b[1;31m---------------------------------------------------------------------------\u001b[0m",
      "\u001b[1;31mIntegrityError\u001b[0m                            Traceback (most recent call last)",
      "Input \u001b[1;32mIn [9]\u001b[0m, in \u001b[0;36m<cell line: 8>\u001b[1;34m()\u001b[0m\n\u001b[0;32m      1\u001b[0m conn\u001b[38;5;241m.\u001b[39mexecute(\u001b[38;5;124m'''\u001b[39m\u001b[38;5;124mCREATE TABLE IF NOT EXISTS TEST\u001b[39m\n\u001b[0;32m      2\u001b[0m \u001b[38;5;124m         (UID TEXT PRIMARY KEY     NOT NULL,\u001b[39m\n\u001b[0;32m      3\u001b[0m \u001b[38;5;124m         NAME TEXT NOT NULL,\u001b[39m\n\u001b[0;32m      4\u001b[0m \u001b[38;5;124m         YEAR           TEXT    NOT NULL);\u001b[39m\n\u001b[0;32m      5\u001b[0m \u001b[38;5;124m         \u001b[39m\u001b[38;5;124m'''\u001b[39m)\n\u001b[0;32m      6\u001b[0m \u001b[38;5;28mprint\u001b[39m(\u001b[38;5;124m\"\u001b[39m\u001b[38;5;124mTable created successfully\u001b[39m\u001b[38;5;124m\"\u001b[39m)\n\u001b[1;32m----> 8\u001b[0m \u001b[43mconn\u001b[49m\u001b[38;5;241;43m.\u001b[39;49m\u001b[43mexecute\u001b[49m\u001b[43m(\u001b[49m\u001b[38;5;124;43m\"\u001b[39;49m\u001b[38;5;124;43mINSERT INTO TEST (UID,NAME,YEAR) \u001b[39;49m\u001b[38;5;130;43;01m\\\u001b[39;49;00m\n\u001b[0;32m      9\u001b[0m \u001b[38;5;124;43m      VALUES (1,\u001b[39;49m\u001b[38;5;124;43m'\u001b[39;49m\u001b[38;5;124;43majay john\u001b[39;49m\u001b[38;5;124;43m'\u001b[39;49m\u001b[38;5;124;43m,2000 ),(2,\u001b[39;49m\u001b[38;5;124;43m'\u001b[39;49m\u001b[38;5;124;43mvicky\u001b[39;49m\u001b[38;5;124;43m'\u001b[39;49m\u001b[38;5;124;43m,3000)\u001b[39;49m\u001b[38;5;124;43m\"\u001b[39;49m\u001b[43m)\u001b[49m;\n\u001b[0;32m     10\u001b[0m conn\u001b[38;5;241m.\u001b[39mcommit()\n",
      "\u001b[1;31mIntegrityError\u001b[0m: UNIQUE constraint failed: TEST.UID"
     ]
    }
   ],
   "source": [
    "conn.execute('''CREATE TABLE IF NOT EXISTS TEST\n",
    "         (UID TEXT PRIMARY KEY     NOT NULL,\n",
    "         NAME TEXT NOT NULL,\n",
    "         YEAR           TEXT    NOT NULL);\n",
    "         ''')\n",
    "print(\"Table created successfully\")\n",
    "\n",
    "conn.execute(\"INSERT INTO TEST (UID,NAME,YEAR) \\\n",
    "      VALUES (1,'ajay john',2000 ),(2,'vicky',3000)\");\n",
    "conn.commit()"
   ]
  },
  {
   "cell_type": "code",
   "execution_count": 16,
   "id": "804ed8e3",
   "metadata": {},
   "outputs": [],
   "source": [
    "conn.execute(\"INSERT INTO TEST (UID,NAME,YEAR) \\\n",
    "      VALUES (3,'ajay john',2000 ),(4,'John ibra',3000)\");\n",
    "conn.commit()"
   ]
  },
  {
   "cell_type": "code",
   "execution_count": 24,
   "id": "c466d365",
   "metadata": {},
   "outputs": [
    {
     "name": "stdout",
     "output_type": "stream",
     "text": [
      "id =  4\n",
      "name =  John ibra\n",
      "year =  3000\n"
     ]
    }
   ],
   "source": [
    "cursor = conn.execute(\"select * from TEST where year > 2000 and name LIKE '%JOHN%';\")\n",
    "for row in cursor:\n",
    "    print(\"id = \",row[0])\n",
    "    print(\"name = \",row[1])\n",
    "    print(\"year = \", row[2])"
   ]
  }
 ],
 "metadata": {
  "kernelspec": {
   "display_name": "Python 3 (ipykernel)",
   "language": "python",
   "name": "python3"
  },
  "language_info": {
   "codemirror_mode": {
    "name": "ipython",
    "version": 3
   },
   "file_extension": ".py",
   "mimetype": "text/x-python",
   "name": "python",
   "nbconvert_exporter": "python",
   "pygments_lexer": "ipython3",
   "version": "3.9.7"
  }
 },
 "nbformat": 4,
 "nbformat_minor": 5
}
