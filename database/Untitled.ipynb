{
 "cells": [
  {
   "cell_type": "code",
   "execution_count": 43,
   "id": "fea36ff7",
   "metadata": {},
   "outputs": [],
   "source": [
    "import sqlite3\n"
   ]
  },
  {
   "cell_type": "code",
   "execution_count": 53,
   "id": "6bd11366",
   "metadata": {},
   "outputs": [
    {
     "name": "stdout",
     "output_type": "stream",
     "text": [
      "Opened database successfully.\n"
     ]
    }
   ],
   "source": [
    "conn = sqlite3.connect('userDB.db')#,check_same_thread=False)\n",
    "\n",
    "print(\"Opened database successfully.\")\n"
   ]
  },
  {
   "cell_type": "code",
   "execution_count": 80,
   "id": "c31ea22e",
   "metadata": {},
   "outputs": [
    {
     "name": "stdout",
     "output_type": "stream",
     "text": [
      "Table created successfully\n"
     ]
    }
   ],
   "source": [
    "conn.execute('''CREATE TABLE IF NOT EXISTS USER\n",
    "         (UID TEXT PRIMARY KEY, PASSWORD TEXT NOT NULL);\n",
    "         ''')\n",
    "print(\"Table created successfully\")\n"
   ]
  },
  {
   "cell_type": "code",
   "execution_count": 117,
   "id": "500645ce",
   "metadata": {},
   "outputs": [],
   "source": [
    "def checkUserCredential(uid,pas):\n",
    "    try:\n",
    "        for row in conn.execute(f\"SELECT UID,PASSWORD from USER where UID=?\",(uid,)):\n",
    "            if row[0]==uid and row[1]==pas:\n",
    "                print(\"userid = \", row[0])\n",
    "                print(\"password = \", row[1],\"\\n\")\n",
    "                return True\n",
    "            return False\n",
    "        print(\"user dosen't exist.\")\n",
    "    except:\n",
    "        print(\"Table doesn't exists.\")"
   ]
  },
  {
   "cell_type": "code",
   "execution_count": 120,
   "id": "86b44183",
   "metadata": {},
   "outputs": [
    {
     "data": {
      "text/plain": [
       "False"
      ]
     },
     "execution_count": 120,
     "metadata": {},
     "output_type": "execute_result"
    }
   ],
   "source": [
    "checkUserCredential(\"ajay\",\"tt\")"
   ]
  },
  {
   "cell_type": "code",
   "execution_count": 60,
   "id": "acd8c5ae",
   "metadata": {},
   "outputs": [
    {
     "name": "stdout",
     "output_type": "stream",
     "text": [
      "User already exists\n"
     ]
    }
   ],
   "source": [
    "# Inserting\n",
    "try:\n",
    "    conn.execute(\"INSERT INTO USER (UID,PASSWORD) \\\n",
    "          VALUES ('ajay','abc' )\");\n",
    "    conn.commit()\n",
    "    print(\"Records created successfully\")\n",
    "except:\n",
    "    print(\"User already exists\")\n",
    "\n",
    "\n"
   ]
  },
  {
   "cell_type": "code",
   "execution_count": null,
   "id": "69013362",
   "metadata": {},
   "outputs": [],
   "source": []
  },
  {
   "cell_type": "code",
   "execution_count": 97,
   "id": "6d210281",
   "metadata": {},
   "outputs": [
    {
     "name": "stdout",
     "output_type": "stream",
     "text": [
      "Records created successfully\n"
     ]
    }
   ],
   "source": [
    "uid=\"ruchik1\"#input(\"Enter Username: \")\n",
    "pas=\"secret\"#input(\"Enter Password: \")\n",
    "\n",
    "try:\n",
    "    conn.execute(f\"INSERT INTO USER (UID,PASSWORD) VALUES (?,?)\",(uid,pas));\n",
    "    conn.commit()\n",
    "    print(\"Records created successfully\")\n",
    "except:\n",
    "    print(\"value should be unique\")\n",
    "\n"
   ]
  },
  {
   "cell_type": "code",
   "execution_count": 100,
   "id": "a5aa3ccc",
   "metadata": {},
   "outputs": [
    {
     "name": "stdout",
     "output_type": "stream",
     "text": [
      "userid =  ajay\n",
      "password =  xyz \n",
      "\n",
      "userid =  ruchik\n",
      "password =  secret \n",
      "\n",
      "userid =  ruchik1\n",
      "password =  secret \n",
      "\n"
     ]
    }
   ],
   "source": [
    "cursor = conn.execute(\"SELECT UID,PASSWORD from USER\")\n",
    "for row in cursor:\n",
    "    print(\"userid = \",row[0])\n",
    "    print(\"password = \",row[1],\"\\n\")\n"
   ]
  },
  {
   "cell_type": "code",
   "execution_count": null,
   "id": "96ba8fc4",
   "metadata": {},
   "outputs": [],
   "source": [
    "conn.close()"
   ]
  },
  {
   "cell_type": "code",
   "execution_count": null,
   "id": "f34ee185",
   "metadata": {},
   "outputs": [],
   "source": []
  },
  {
   "cell_type": "code",
   "execution_count": null,
   "id": "415afa00",
   "metadata": {},
   "outputs": [],
   "source": []
  },
  {
   "cell_type": "code",
   "execution_count": 17,
   "id": "5df77332",
   "metadata": {},
   "outputs": [],
   "source": [
    "uid=\"ajay\"\n",
    "pas=\"xyz\"\n",
    "def checkUserCredential(uid,pas):\n",
    "    for row in conn.execute(f\"SELECT UID,PASSWORD from USER where UID={uid}\"):\n",
    "        if row[0]==uid and row[1]==pas:\n",
    "            print(\"userid = \", row[0])\n",
    "            print(\"password = \", row[1],\"\\n\")\n",
    "            return True\n",
    "        return False\n",
    "        "
   ]
  },
  {
   "cell_type": "code",
   "execution_count": 21,
   "id": "27c4a815",
   "metadata": {},
   "outputs": [
    {
     "name": "stdout",
     "output_type": "stream",
     "text": [
      "userid =  ajay\n",
      "password =  xyz \n",
      "\n"
     ]
    },
    {
     "data": {
      "text/plain": [
       "True"
      ]
     },
     "execution_count": 21,
     "metadata": {},
     "output_type": "execute_result"
    }
   ],
   "source": [
    "checkUserCredential(\"ajay\",\"xyz\")"
   ]
  },
  {
   "cell_type": "code",
   "execution_count": 25,
   "id": "537acf60",
   "metadata": {},
   "outputs": [
    {
     "data": {
      "text/plain": [
       "2"
      ]
     },
     "execution_count": 25,
     "metadata": {},
     "output_type": "execute_result"
    }
   ],
   "source": [
    "#get total number of rows\n",
    "conn.execute(\"select count(*) from USER\").fetchall()[-1][-1]"
   ]
  },
  {
   "cell_type": "code",
   "execution_count": null,
   "id": "1cadb651",
   "metadata": {},
   "outputs": [],
   "source": []
  },
  {
   "cell_type": "code",
   "execution_count": 59,
   "id": "18bf021b",
   "metadata": {
    "scrolled": true
   },
   "outputs": [],
   "source": [
    "uid=\"ajay\"\n",
    "\n",
    "cursor=conn.execute(\"select UID from USERS where UID=?\", (uid,))\n",
    "# print(len( cursor.fetchall())) #it will execute and make the cursor with 0 row\n",
    "# for row in cursor:\n",
    "#     print(\"userid = \", row[0])\n"
   ]
  },
  {
   "cell_type": "code",
   "execution_count": null,
   "id": "0a2d7860",
   "metadata": {},
   "outputs": [],
   "source": []
  },
  {
   "cell_type": "code",
   "execution_count": null,
   "id": "69d5ee81",
   "metadata": {},
   "outputs": [],
   "source": []
  },
  {
   "cell_type": "code",
   "execution_count": null,
   "id": "967642d4",
   "metadata": {},
   "outputs": [],
   "source": []
  },
  {
   "cell_type": "code",
   "execution_count": null,
   "id": "23bfacdd",
   "metadata": {},
   "outputs": [],
   "source": []
  },
  {
   "cell_type": "code",
   "execution_count": null,
   "id": "99247c18",
   "metadata": {},
   "outputs": [],
   "source": []
  },
  {
   "cell_type": "code",
   "execution_count": null,
   "id": "015cfdbb",
   "metadata": {},
   "outputs": [],
   "source": []
  },
  {
   "cell_type": "code",
   "execution_count": null,
   "id": "cda33ad9",
   "metadata": {},
   "outputs": [],
   "source": []
  },
  {
   "cell_type": "code",
   "execution_count": 79,
   "id": "89c5472a",
   "metadata": {},
   "outputs": [
    {
     "data": {
      "text/plain": [
       "<sqlite3.Cursor at 0x22da8470420>"
      ]
     },
     "execution_count": 79,
     "metadata": {},
     "output_type": "execute_result"
    }
   ],
   "source": [
    "conn.execute(\"drop table USER1\")"
   ]
  },
  {
   "cell_type": "code",
   "execution_count": null,
   "id": "d127f8b1",
   "metadata": {},
   "outputs": [],
   "source": [
    "conn.close()"
   ]
  },
  {
   "cell_type": "code",
   "execution_count": 28,
   "id": "46195c26",
   "metadata": {},
   "outputs": [],
   "source": [
    "temp=conn"
   ]
  },
  {
   "cell_type": "code",
   "execution_count": 29,
   "id": "b977720c",
   "metadata": {},
   "outputs": [
    {
     "data": {
      "text/plain": [
       "sqlite3.Connection"
      ]
     },
     "execution_count": 29,
     "metadata": {},
     "output_type": "execute_result"
    }
   ],
   "source": [
    "type(temp)"
   ]
  },
  {
   "cell_type": "code",
   "execution_count": null,
   "id": "f79eacbb",
   "metadata": {},
   "outputs": [],
   "source": []
  },
  {
   "cell_type": "code",
   "execution_count": null,
   "id": "6f0a0446",
   "metadata": {},
   "outputs": [],
   "source": []
  },
  {
   "cell_type": "code",
   "execution_count": 41,
   "id": "0f07effe",
   "metadata": {},
   "outputs": [
    {
     "name": "stdout",
     "output_type": "stream",
     "text": [
      "Table created successfully\n"
     ]
    }
   ],
   "source": [
    "conn.execute('''CREATE TABLE IF NOT EXISTS TEST\n",
    "         (UID TEXT PRIMARY KEY,\n",
    "         NAME TEXT NOT NULL,\n",
    "         AGE TEXT   NOT NULL);\n",
    "         ''')\n",
    "print(\"Table created successfully\")\n",
    "\n",
    "conn.execute(\"INSERT INTO TEST (UID,NAME,AGE) \\\n",
    "      VALUES (1,'ajay',2000 ),(2,'vicky',3000)\");\n",
    "conn.commit()"
   ]
  },
  {
   "cell_type": "code",
   "execution_count": 32,
   "id": "804ed8e3",
   "metadata": {},
   "outputs": [],
   "source": [
    "conn.execute(\"INSERT INTO TEST (UID,NAME,AGE) \\\n",
    "      VALUES (3,'john',2000 ),(4,'John ibra',3000)\");\n",
    "conn.commit()"
   ]
  },
  {
   "cell_type": "code",
   "execution_count": 37,
   "id": "c466d365",
   "metadata": {},
   "outputs": [
    {
     "name": "stdout",
     "output_type": "stream",
     "text": [
      "id =  1\n",
      "name =  ajay john\n",
      "year =  2000\n",
      "id =  2\n",
      "name =  vicky\n",
      "year =  3000\n",
      "id =  3\n",
      "name =  ajay john\n",
      "year =  2000\n",
      "id =  4\n",
      "name =  John ibra\n",
      "year =  3000\n"
     ]
    }
   ],
   "source": [
    "cursor = conn.execute(\"select * from TEST;\")\n",
    "for row in cursor:\n",
    "    print(\"id = \",row[0])\n",
    "    print(\"name = \",row[1])\n",
    "    print(\"year = \", row[2])"
   ]
  },
  {
   "cell_type": "code",
   "execution_count": 42,
   "id": "4a92ee91",
   "metadata": {},
   "outputs": [],
   "source": [
    "conn.close()"
   ]
  },
  {
   "cell_type": "code",
   "execution_count": null,
   "id": "e21935c4",
   "metadata": {},
   "outputs": [],
   "source": []
  }
 ],
 "metadata": {
  "kernelspec": {
   "display_name": "Python 3 (ipykernel)",
   "language": "python",
   "name": "python3"
  },
  "language_info": {
   "codemirror_mode": {
    "name": "ipython",
    "version": 3
   },
   "file_extension": ".py",
   "mimetype": "text/x-python",
   "name": "python",
   "nbconvert_exporter": "python",
   "pygments_lexer": "ipython3",
   "version": "3.9.7"
  }
 },
 "nbformat": 4,
 "nbformat_minor": 5
}
